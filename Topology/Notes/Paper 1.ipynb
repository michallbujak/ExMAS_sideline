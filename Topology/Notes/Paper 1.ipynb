{
 "cells": [
  {
   "cell_type": "markdown",
   "id": "4f131be9",
   "metadata": {},
   "source": [
    "# Calculation of variance of the variables"
   ]
  },
  {
   "cell_type": "markdown",
   "id": "12eb14b8",
   "metadata": {},
   "source": [
    "we are using the formulas from 1 [https://link.springer.com/content/pdf/10.1007/s11116-020-10110-2.pdf] and https://www.stat.cmu.edu/~hseltman/files/ratio.pdf"
   ]
  },
  {
   "cell_type": "code",
   "execution_count": 1,
   "id": "ee4fb79a",
   "metadata": {},
   "outputs": [
    {
     "data": {
      "text/latex": [
       "$$ \\displaystyle \\mathrm{f}(X, Y) = \\frac{X}{y} $$"
      ],
      "text/plain": [
       "<latexify.frontend.LatexifiedFunction at 0x267299d1e50>"
      ]
     },
     "execution_count": 1,
     "metadata": {},
     "output_type": "execute_result"
    }
   ],
   "source": [
    "import latexify\n",
    "\n",
    "@latexify.with_latex\n",
    "def f(X, Y):\n",
    "    return X/y\n",
    "f"
   ]
  },
  {
   "cell_type": "markdown",
   "id": "f372b8c3",
   "metadata": {},
   "source": [
    "$Var(X/Y) = Var(f(X, Y)) \\approx \\frac{\\mu^2_x}{\\mu^2_y} (\\frac{\\sigma^2_x}{\\mu^2_x} + \\frac{\\sigma^2_y}{\\mu^2_y}) $ <br>\n",
    "Under the assumption that $Cov(X, Y) \\approx 0$"
   ]
  },
  {
   "cell_type": "markdown",
   "id": "233759d7",
   "metadata": {},
   "source": [
    "To calculate $\\sigma_x$, according to 1, we use"
   ]
  },
  {
   "cell_type": "code",
   "execution_count": 2,
   "id": "1ea11678",
   "metadata": {},
   "outputs": [
    {
     "data": {
      "text/latex": [
       "$$ \\displaystyle \\mathrm{foo1}(z) = \\frac{{1}}{\\sqrt{{2} math.pi}} \\exp{\\left({\\frac{-{1}}{{2}} \\mathrm{pow}\\left(z, {2}\\right)}\\right)} $$"
      ],
      "text/plain": [
       "<latexify.frontend.LatexifiedFunction at 0x26729abaeb0>"
      ]
     },
     "execution_count": 2,
     "metadata": {},
     "output_type": "execute_result"
    }
   ],
   "source": [
    "import math\n",
    "@latexify.with_latex\n",
    "\n",
    "def foo1(z):\n",
    "    return 1/math.sqrt(2*math.pi) * math.exp(-1/2 * math.pow(z, 2))\n",
    "\n",
    "@latexify.with_latex\n",
    "def foo2(z):\n",
    "    return 1/2 * (1 + math.erf(z/math.sqrt(2)))\n",
    "\n",
    "foo1"
   ]
  },
  {
   "cell_type": "code",
   "execution_count": 3,
   "id": "b5ebdf13",
   "metadata": {},
   "outputs": [
    {
     "data": {
      "text/latex": [
       "$$ \\displaystyle \\mathrm{foo2}(z) = \\frac{{1}}{{2}} \\left( {1} + \\mathrm{erf}\\left(\\frac{z}{\\sqrt{{2}}}\\right) \\right) $$"
      ],
      "text/plain": [
       "<latexify.frontend.LatexifiedFunction at 0x267299cc610>"
      ]
     },
     "execution_count": 3,
     "metadata": {},
     "output_type": "execute_result"
    }
   ],
   "source": [
    "foo2"
   ]
  },
  {
   "cell_type": "code",
   "execution_count": 4,
   "id": "1ec43318",
   "metadata": {},
   "outputs": [
    {
     "data": {
      "text/latex": [
       "$$ \\displaystyle \\mathrm{var}(sigma, z1, z2) = \\mathrm{pow}\\left(sigma, {2}\\right) \\left( {1} + \\frac{z1 \\mathrm{foo1}\\left(z1\\right) - z2 \\mathrm{foo1}\\left(z2\\right)}{\\mathrm{foo2}\\left(z2\\right) - \\mathrm{foo2}\\left(z1\\right)} \\right) $$"
      ],
      "text/plain": [
       "<latexify.frontend.LatexifiedFunction at 0x26729a9c130>"
      ]
     },
     "execution_count": 4,
     "metadata": {},
     "output_type": "execute_result"
    }
   ],
   "source": [
    "@latexify.with_latex\n",
    "\n",
    "def var(sigma, z1, z2):\n",
    "    return math.pow(sigma, 2)*(1 + (z1*foo1(z1) - z2*foo1(z2))/(foo2(z2) - foo2(z1)))\n",
    "\n",
    "var"
   ]
  },
  {
   "cell_type": "markdown",
   "id": "d27875ff",
   "metadata": {},
   "source": [
    "at last, z-value = mean/sigma (probably, that's t-test according to Micha... Biogeme)"
   ]
  },
  {
   "cell_type": "code",
   "execution_count": 5,
   "id": "10196612",
   "metadata": {},
   "outputs": [
    {
     "name": "stdout",
     "output_type": "stream",
     "text": [
      "base variance of x: 0.06165605095541401\n",
      "base variance of y: 0.16139150943396227\n",
      "adjusted variance for x is 0.0016608788170961522\n",
      "adjusted variance for x is 0.011380147816430259\n"
     ]
    },
    {
     "data": {
      "text/plain": [
       "2.802799666003869e-05"
      ]
     },
     "execution_count": 5,
     "metadata": {},
     "output_type": "execute_result"
    }
   ],
   "source": [
    "mu_x = -0.1936\n",
    "mu_y = -0.6843\n",
    "sigma_x = -0.1936/-3.14\n",
    "print(f'base variance of x: {sigma_x}')\n",
    "sigma_y = -0.6843/-4.24\n",
    "print(f'base variance of y: {sigma_y}')\n",
    "z1 = -1.28\n",
    "z2 = 1.28\n",
    "\n",
    "def Var(mu_x, mu_y, sigma_x, sigma_y, z1, z2):\n",
    "    t1 = math.pow(mu_x, 2)/math.pow(mu_y, 2)\n",
    "    t2_1 = var(sigma_x, z1, z2)\n",
    "    print(f\"adjusted variance for x is {t2_1}\")\n",
    "    t3_1 = var(sigma_y, z1, z2)\n",
    "    print(f\"adjusted variance for x is {t3_1}\")\n",
    "    t2 = math.pow(t2_1, 2)/math.pow(mu_x, 2)\n",
    "    t3 = math.pow(t3_1, 2)/math.pow(mu_y, 2)\n",
    "    variance = t1* (t2 + t3)\n",
    "    std_err = math.sqrt(variance)\n",
    "    return variance, std_err\n",
    "\n",
    "Var(mu_x, mu_y, sigma_x, sigma_y, z1, z2)"
   ]
  },
  {
   "cell_type": "code",
   "execution_count": 6,
   "id": "0e9c1792",
   "metadata": {},
   "outputs": [
    {
     "data": {
      "text/plain": [
       "17.387549841355337"
      ]
     },
     "execution_count": 6,
     "metadata": {},
     "output_type": "execute_result"
    }
   ],
   "source": [
    "def Vot(mu_x, mu_y, sigma_y, z1, z2):\n",
    "    return mu_x/mu_y + var(sigma_y, z1, z2)*mu_x/math.pow(mu_y, 3)\n",
    "\n",
    "Vot(mu_x, mu_y, sigma_y, z1, z2)*60"
   ]
  },
  {
   "cell_type": "code",
   "execution_count": 7,
   "id": "ccf40a58",
   "metadata": {},
   "outputs": [
    {
     "data": {
      "text/plain": [
       "2.0354850294447977e-08"
      ]
     },
     "execution_count": 7,
     "metadata": {},
     "output_type": "execute_result"
    }
   ],
   "source": [
    "t2 = math.pow(var(sigma_x, z1, z2), 2)/math.pow(mu_x, 2)\n",
    "t3 = math.pow(var(sigma_y, z1, z2), 2)/math.pow(mu_y, 2)\n",
    "    \n",
    "t2*t3"
   ]
  },
  {
   "cell_type": "code",
   "execution_count": 8,
   "id": "198eff70",
   "metadata": {},
   "outputs": [
    {
     "data": {
      "text/plain": [
       "0.0016608788170961522"
      ]
     },
     "execution_count": 8,
     "metadata": {},
     "output_type": "execute_result"
    }
   ],
   "source": [
    "var(0.1936/-3.14, z1, z2)"
   ]
  },
  {
   "cell_type": "markdown",
   "id": "870a282e",
   "metadata": {},
   "source": [
    "# All"
   ]
  },
  {
   "cell_type": "code",
   "execution_count": 1,
   "id": "af186c5f",
   "metadata": {},
   "outputs": [],
   "source": [
    "import math\n",
    "\n",
    "def foo1(z):\n",
    "    return 1/math.sqrt(2*math.pi) * math.exp(-1/2 * math.pow(z, 2))\n",
    "\n",
    "def foo2(z):\n",
    "    return 1/2 * (1 + math.erf(z/math.sqrt(2)))\n",
    "\n",
    "def var(sigma, z1, z2):\n",
    "    return math.pow(sigma, 2)*(1 + (z1*foo1(z1) - z2*foo1(z2))/(foo2(z2) - foo2(z1)))\n",
    "\n",
    "def Var(mu_x, mu_y, sigma_x, sigma_y, z1, z2):\n",
    "    t1 = math.pow(mu_x, 2)/math.pow(mu_y, 2)\n",
    "    t2_1 = var(sigma_x, z1, z2)\n",
    "    print(f\"adjusted variance for x is {t2_1}\")\n",
    "    t3_1 = var(sigma_y, z1, z2)\n",
    "    print(f\"adjusted variance for y is {t3_1}\")\n",
    "    t2 = math.pow(t2_1, 2)/math.pow(mu_x, 2)\n",
    "    t3 = math.pow(t3_1, 2)/math.pow(mu_y, 2)\n",
    "    variance = t1* (t2 + t3)\n",
    "    output = math.sqrt(variance)*60\n",
    "    return variance, output"
   ]
  },
  {
   "cell_type": "markdown",
   "id": "11b08000",
   "metadata": {},
   "source": [
    "# 4 classes, VoT"
   ]
  },
  {
   "cell_type": "code",
   "execution_count": 31,
   "id": "2e639f37",
   "metadata": {},
   "outputs": [
    {
     "name": "stdout",
     "output_type": "stream",
     "text": [
      "base variance of x: 0.06165605095541401\n",
      "base variance of y: 0.16139150943396227\n"
     ]
    }
   ],
   "source": [
    "mu_x = -0.1936\n",
    "mu_y = -0.6843\n",
    "sigma_x = mu_x/-3.14\n",
    "print(f'base variance of x: {sigma_x}')\n",
    "sigma_y = mu_y/-4.24\n",
    "print(f'base variance of y: {sigma_y}')\n",
    "z1 = -1.28\n",
    "z2 = 1.28"
   ]
  },
  {
   "cell_type": "code",
   "execution_count": 34,
   "id": "14127db0",
   "metadata": {},
   "outputs": [
    {
     "name": "stdout",
     "output_type": "stream",
     "text": [
      "adjusted variance for x is 0.0016608788170961522\n",
      "adjusted variance for y is 0.011380147816430259\n"
     ]
    },
    {
     "data": {
      "text/plain": [
       "(2.802799666003869e-05, 0.31764884381363534)"
      ]
     },
     "execution_count": 34,
     "metadata": {},
     "output_type": "execute_result"
    }
   ],
   "source": [
    "Var(mu_x, mu_y, sigma_x, sigma_y, z1, z2)"
   ]
  },
  {
   "cell_type": "code",
   "execution_count": 35,
   "id": "49dcabb9",
   "metadata": {},
   "outputs": [
    {
     "name": "stdout",
     "output_type": "stream",
     "text": [
      "base variance of x: 0.04829136690647483\n",
      "base variance of y: 0.19310924369747898\n",
      "adjusted variance for x is 0.0010188858554236358\n",
      "adjusted variance for y is 0.016292685046120515\n"
     ]
    },
    {
     "data": {
      "text/plain": [
       "(1.1766124990577057e-05, 0.20581071392441505)"
      ]
     },
     "execution_count": 35,
     "metadata": {},
     "output_type": "execute_result"
    }
   ],
   "source": [
    "mu_x = -0.2685\n",
    "mu_y = -1.149\n",
    "sigma_x = mu_x/-5.56\n",
    "print(f'base variance of x: {sigma_x}')\n",
    "sigma_y = mu_y/-5.95\n",
    "print(f'base variance of y: {sigma_y}')\n",
    "z1 = -1.28\n",
    "z2 = 1.28\n",
    "\n",
    "Var(mu_x, mu_y, sigma_x, sigma_y, z1, z2)"
   ]
  },
  {
   "cell_type": "code",
   "execution_count": 36,
   "id": "d5064985",
   "metadata": {},
   "outputs": [
    {
     "name": "stdout",
     "output_type": "stream",
     "text": [
      "base variance of x: 0.4380398671096346\n",
      "base variance of y: 1.20552\n",
      "adjusted variance for x is 0.08383276943195504\n",
      "adjusted variance for y is 0.6349439304853918\n"
     ]
    },
    {
     "data": {
      "text/plain": [
       "(0.00926894072968796, 5.776520287065272)"
      ]
     },
     "execution_count": 36,
     "metadata": {},
     "output_type": "execute_result"
    }
   ],
   "source": [
    "mu_x = -1.3185\n",
    "mu_y = -3.0138\n",
    "sigma_x = mu_x/-3.01\n",
    "print(f'base variance of x: {sigma_x}')\n",
    "sigma_y = mu_y/-2.50\n",
    "print(f'base variance of y: {sigma_y}')\n",
    "z1 = -1.28\n",
    "z2 = 1.28\n",
    "\n",
    "Var(mu_x, mu_y, sigma_x, sigma_y, z1, z2)"
   ]
  },
  {
   "cell_type": "code",
   "execution_count": 2,
   "id": "839160b9",
   "metadata": {},
   "outputs": [
    {
     "name": "stdout",
     "output_type": "stream",
     "text": [
      "base variance of x: 0.9156053811659192\n",
      "base variance of y: 7.756256157635469\n",
      "adjusted variance for x is 0.366271569288296\n",
      "adjusted variance for y is 26.283961572829156\n"
     ]
    },
    {
     "data": {
      "text/plain": [
       "(0.04740254708278621, 13.063275603692604)"
      ]
     },
     "execution_count": 2,
     "metadata": {},
     "output_type": "execute_result"
    }
   ],
   "source": [
    "mu_x = -2.0418\n",
    "mu_y = -15.7452\n",
    "sigma_x = mu_x/-2.23\n",
    "print(f'base variance of x: {sigma_x}')\n",
    "sigma_y = mu_y/-2.03\n",
    "print(f'base variance of y: {sigma_y}')\n",
    "z1 = -1.28\n",
    "z2 = 1.28\n",
    "\n",
    "Var(mu_x, mu_y, sigma_x, sigma_y, z1, z2)"
   ]
  },
  {
   "cell_type": "markdown",
   "id": "ff5b76f3",
   "metadata": {},
   "source": [
    "# For one WtS, for other assume scalling"
   ]
  },
  {
   "cell_type": "code",
   "execution_count": 43,
   "id": "284a87f2",
   "metadata": {},
   "outputs": [
    {
     "name": "stdout",
     "output_type": "stream",
     "text": [
      "base variance of x: 0.015994236311239193\n",
      "base variance of y: 0.16139150943396227\n",
      "adjusted variance for x is 0.00011176698945948833\n",
      "adjusted variance for y is 0.011380147816430259\n"
     ]
    },
    {
     "data": {
      "text/plain": [
       "(1.8459403440013345e-06, 0.08151923232222445)"
      ]
     },
     "execution_count": 43,
     "metadata": {},
     "output_type": "execute_result"
    }
   ],
   "source": [
    "mu_x = -0.0555\n",
    "mu_y = -0.6843\n",
    "sigma_x = mu_x/-3.47\n",
    "print(f'base variance of x: {sigma_x}')\n",
    "sigma_y = mu_y/-4.24\n",
    "print(f'base variance of y: {sigma_y}')\n",
    "z1 = -1.28\n",
    "z2 = 1.28\n",
    "\n",
    "Var(mu_x, mu_y, sigma_x, sigma_y, z1, z2)"
   ]
  },
  {
   "cell_type": "code",
   "execution_count": 45,
   "id": "95532036",
   "metadata": {},
   "outputs": [
    {
     "name": "stdout",
     "output_type": "stream",
     "text": [
      "adjusted variance for x is 0.00011176698945948833\n",
      "adjusted variance for y is 0.011380147816430259\n",
      "st_err2: 0.07055570616655307\n",
      "st_err3: 0.06026864066555234\n",
      "st_err4: 0.07626134042291409\n"
     ]
    }
   ],
   "source": [
    "var_max = Var(mu_x, mu_y, sigma_x, sigma_y, z1, z2)\n",
    "\n",
    "output2 = math.pow((1.135/1.22),2) * var_max[1]\n",
    "print(f\"st_err2: {output2}\")\n",
    "output3 = math.pow((1.049/1.22),2) * var_max[1]\n",
    "print(f\"st_err3: {output3}\")\n",
    "output4 = math.pow((1.18/1.22),2) * var_max[1]\n",
    "print(f\"st_err4: {output4}\")"
   ]
  }
 ],
 "metadata": {
  "kernelspec": {
   "display_name": "Python 3",
   "language": "python",
   "name": "python3"
  },
  "language_info": {
   "codemirror_mode": {
    "name": "ipython",
    "version": 3
   },
   "file_extension": ".py",
   "mimetype": "text/x-python",
   "name": "python",
   "nbconvert_exporter": "python",
   "pygments_lexer": "ipython3",
   "version": "3.8.8"
  }
 },
 "nbformat": 4,
 "nbformat_minor": 5
}
