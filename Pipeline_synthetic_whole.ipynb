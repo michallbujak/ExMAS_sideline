{
 "cells": [
  {
   "cell_type": "code",
   "execution_count": 1,
   "id": "54bb66fc",
   "metadata": {},
   "outputs": [],
   "source": [
    "import os\n",
    "import torch\n",
    "import torch.nn as nn\n",
    "import glob\n",
    "import matplotlib.pyplot as plt\n",
    "import numpy as np\n",
    "import datetime as dt\n",
    "import multiprocessing as mp\n",
    "import pickle\n",
    "\n",
    "import ExMAS\n",
    "import utils\n",
    "from ExMAS.utils import inData as inData\n",
    "from torch.utils.data import  DataLoader\n",
    "import seaborn as sns\n",
    "import ExMAS_wrapper as ExMASFunc"
   ]
  },
  {
   "cell_type": "markdown",
   "id": "cbf24d03",
   "metadata": {},
   "source": [
    "Load run parameters"
   ]
  },
  {
   "cell_type": "code",
   "execution_count": 2,
   "id": "2a39932c",
   "metadata": {},
   "outputs": [],
   "source": [
    "run_parameters = utils.get_initial_parameters('run_parameters_v2.json')\n",
    "initial_params = ExMAS.utils.get_config(run_parameters.initial_parameters)\n",
    "initial_params.duration_in_minutes = run_parameters.duration_in_minutes"
   ]
  },
  {
   "cell_type": "code",
   "execution_count": 3,
   "id": "ffc4a413",
   "metadata": {},
   "outputs": [
    {
     "name": "stdout",
     "output_type": "stream",
     "text": [
      "Demand size:  10\n"
     ]
    }
   ],
   "source": [
    "demand_structure_requests = ExMASFunc.split_demand_structure(run_parameters)\n",
    "print(\"Demand size: \", len(run_parameters.values_of_demand_variables[0]) * run_parameters.replications)"
   ]
  },
  {
   "cell_type": "code",
   "execution_count": 4,
   "id": "6ed41870",
   "metadata": {},
   "outputs": [
    {
     "data": {
      "text/plain": [
       "8"
      ]
     },
     "execution_count": 4,
     "metadata": {},
     "output_type": "execute_result"
    }
   ],
   "source": [
    "pool = mp.Pool(mp.cpu_count())\n",
    "mp.cpu_count()"
   ]
  },
  {
   "cell_type": "code",
   "execution_count": 5,
   "id": "b728fcca",
   "metadata": {},
   "outputs": [],
   "source": [
    "demand_dotmaps = [pool.apply(ExMASFunc.demand_generation, args=(initial_params, demand, True))\n",
    "                  for demand in demand_structure_requests]"
   ]
  },
  {
   "cell_type": "code",
   "execution_count": 6,
   "id": "a13fd549",
   "metadata": {},
   "outputs": [
    {
     "data": {
      "text/html": [
       "<div>\n",
       "<style scoped>\n",
       "    .dataframe tbody tr th:only-of-type {\n",
       "        vertical-align: middle;\n",
       "    }\n",
       "\n",
       "    .dataframe tbody tr th {\n",
       "        vertical-align: top;\n",
       "    }\n",
       "\n",
       "    .dataframe thead th {\n",
       "        text-align: right;\n",
       "    }\n",
       "</style>\n",
       "<table border=\"1\" class=\"dataframe\">\n",
       "  <thead>\n",
       "    <tr style=\"text-align: right;\">\n",
       "      <th></th>\n",
       "      <th>origin</th>\n",
       "      <th>destination</th>\n",
       "      <th>treq</th>\n",
       "      <th>tdep</th>\n",
       "      <th>ttrav</th>\n",
       "      <th>tarr</th>\n",
       "      <th>tdrop</th>\n",
       "      <th>dist</th>\n",
       "      <th>pax_id</th>\n",
       "    </tr>\n",
       "  </thead>\n",
       "  <tbody>\n",
       "    <tr>\n",
       "      <th>60</th>\n",
       "      <td>5715066940</td>\n",
       "      <td>4594247438</td>\n",
       "      <td>2022-02-28 15:00:17</td>\n",
       "      <td>NaN</td>\n",
       "      <td>0 days 00:52:23</td>\n",
       "      <td>2022-02-28 15:52:40</td>\n",
       "      <td>NaN</td>\n",
       "      <td>3143</td>\n",
       "      <td>60</td>\n",
       "    </tr>\n",
       "    <tr>\n",
       "      <th>38</th>\n",
       "      <td>44854736</td>\n",
       "      <td>894421661</td>\n",
       "      <td>2022-02-28 15:00:39</td>\n",
       "      <td>NaN</td>\n",
       "      <td>0 days 00:31:36</td>\n",
       "      <td>2022-02-28 15:32:15</td>\n",
       "      <td>NaN</td>\n",
       "      <td>1896</td>\n",
       "      <td>38</td>\n",
       "    </tr>\n",
       "    <tr>\n",
       "      <th>23</th>\n",
       "      <td>1583992769</td>\n",
       "      <td>44792321</td>\n",
       "      <td>2022-02-28 15:00:52</td>\n",
       "      <td>NaN</td>\n",
       "      <td>0 days 00:54:03</td>\n",
       "      <td>2022-02-28 15:54:55</td>\n",
       "      <td>NaN</td>\n",
       "      <td>3243</td>\n",
       "      <td>23</td>\n",
       "    </tr>\n",
       "    <tr>\n",
       "      <th>34</th>\n",
       "      <td>2598004622</td>\n",
       "      <td>1436427141</td>\n",
       "      <td>2022-02-28 15:01:15</td>\n",
       "      <td>NaN</td>\n",
       "      <td>0 days 00:17:36</td>\n",
       "      <td>2022-02-28 15:18:51</td>\n",
       "      <td>NaN</td>\n",
       "      <td>1056</td>\n",
       "      <td>34</td>\n",
       "    </tr>\n",
       "    <tr>\n",
       "      <th>37</th>\n",
       "      <td>44813599</td>\n",
       "      <td>44838797</td>\n",
       "      <td>2022-02-28 15:01:46</td>\n",
       "      <td>NaN</td>\n",
       "      <td>0 days 00:55:29</td>\n",
       "      <td>2022-02-28 15:57:15</td>\n",
       "      <td>NaN</td>\n",
       "      <td>3329</td>\n",
       "      <td>37</td>\n",
       "    </tr>\n",
       "  </tbody>\n",
       "</table>\n",
       "</div>"
      ],
      "text/plain": [
       "        origin  destination                treq tdep           ttrav  \\\n",
       "60  5715066940   4594247438 2022-02-28 15:00:17  NaN 0 days 00:52:23   \n",
       "38    44854736    894421661 2022-02-28 15:00:39  NaN 0 days 00:31:36   \n",
       "23  1583992769     44792321 2022-02-28 15:00:52  NaN 0 days 00:54:03   \n",
       "34  2598004622   1436427141 2022-02-28 15:01:15  NaN 0 days 00:17:36   \n",
       "37    44813599     44838797 2022-02-28 15:01:46  NaN 0 days 00:55:29   \n",
       "\n",
       "                  tarr tdrop  dist  pax_id  \n",
       "60 2022-02-28 15:52:40   NaN  3143      60  \n",
       "38 2022-02-28 15:32:15   NaN  1896      38  \n",
       "23 2022-02-28 15:54:55   NaN  3243      23  \n",
       "34 2022-02-28 15:18:51   NaN  1056      34  \n",
       "37 2022-02-28 15:57:15   NaN  3329      37  "
      ]
     },
     "execution_count": 6,
     "metadata": {},
     "output_type": "execute_result"
    }
   ],
   "source": [
    "demand_dotmaps[0].requests[:5]"
   ]
  },
  {
   "cell_type": "code",
   "execution_count": 7,
   "id": "fcabe25e",
   "metadata": {},
   "outputs": [],
   "source": [
    "exmas_res = [pool.apply(ExMAS.main, args=(data, initial_params, False)) for data in demand_dotmaps]"
   ]
  },
  {
   "cell_type": "code",
   "execution_count": 8,
   "id": "fd334f7e",
   "metadata": {},
   "outputs": [],
   "source": [
    "pool.close()"
   ]
  },
  {
   "cell_type": "code",
   "execution_count": 9,
   "id": "e2e9336d",
   "metadata": {},
   "outputs": [],
   "source": [
    "exmas_res_extracted = [ExMASFunc.alter_kpis(data.sblts.res)['SavedVehHours'] for data in exmas_res]"
   ]
  },
  {
   "cell_type": "code",
   "execution_count": 10,
   "id": "c0237da3",
   "metadata": {},
   "outputs": [
    {
     "data": {
      "text/plain": [
       "[0.27198158008346524,\n",
       " 0.23051881993896237,\n",
       " 0.2744986757472569,\n",
       " 0.25986971969996053,\n",
       " 0.21050991795617405]"
      ]
     },
     "execution_count": 10,
     "metadata": {},
     "output_type": "execute_result"
    }
   ],
   "source": [
    "exmas_res_extracted[:5]"
   ]
  },
  {
   "cell_type": "code",
   "execution_count": 11,
   "id": "44ee495d",
   "metadata": {
    "scrolled": true
   },
   "outputs": [
    {
     "data": {
      "text/html": [
       "<div>\n",
       "<style scoped>\n",
       "    .dataframe tbody tr th:only-of-type {\n",
       "        vertical-align: middle;\n",
       "    }\n",
       "\n",
       "    .dataframe tbody tr th {\n",
       "        vertical-align: top;\n",
       "    }\n",
       "\n",
       "    .dataframe thead th {\n",
       "        text-align: right;\n",
       "    }\n",
       "</style>\n",
       "<table border=\"1\" class=\"dataframe\">\n",
       "  <thead>\n",
       "    <tr style=\"text-align: right;\">\n",
       "      <th></th>\n",
       "      <th>origin</th>\n",
       "      <th>destination</th>\n",
       "      <th>treq</th>\n",
       "      <th>tdep</th>\n",
       "      <th>ttrav</th>\n",
       "      <th>tarr</th>\n",
       "      <th>tdrop</th>\n",
       "      <th>dist</th>\n",
       "      <th>pax_id</th>\n",
       "    </tr>\n",
       "  </thead>\n",
       "  <tbody>\n",
       "    <tr>\n",
       "      <th>60</th>\n",
       "      <td>5715066940</td>\n",
       "      <td>4594247438</td>\n",
       "      <td>2022-02-28 15:00:17</td>\n",
       "      <td>NaN</td>\n",
       "      <td>0 days 00:52:23</td>\n",
       "      <td>2022-02-28 15:52:40</td>\n",
       "      <td>NaN</td>\n",
       "      <td>3143</td>\n",
       "      <td>60</td>\n",
       "    </tr>\n",
       "    <tr>\n",
       "      <th>38</th>\n",
       "      <td>44854736</td>\n",
       "      <td>894421661</td>\n",
       "      <td>2022-02-28 15:00:39</td>\n",
       "      <td>NaN</td>\n",
       "      <td>0 days 00:31:36</td>\n",
       "      <td>2022-02-28 15:32:15</td>\n",
       "      <td>NaN</td>\n",
       "      <td>1896</td>\n",
       "      <td>38</td>\n",
       "    </tr>\n",
       "    <tr>\n",
       "      <th>23</th>\n",
       "      <td>1583992769</td>\n",
       "      <td>44792321</td>\n",
       "      <td>2022-02-28 15:00:52</td>\n",
       "      <td>NaN</td>\n",
       "      <td>0 days 00:54:03</td>\n",
       "      <td>2022-02-28 15:54:55</td>\n",
       "      <td>NaN</td>\n",
       "      <td>3243</td>\n",
       "      <td>23</td>\n",
       "    </tr>\n",
       "  </tbody>\n",
       "</table>\n",
       "</div>"
      ],
      "text/plain": [
       "        origin  destination                treq tdep           ttrav  \\\n",
       "60  5715066940   4594247438 2022-02-28 15:00:17  NaN 0 days 00:52:23   \n",
       "38    44854736    894421661 2022-02-28 15:00:39  NaN 0 days 00:31:36   \n",
       "23  1583992769     44792321 2022-02-28 15:00:52  NaN 0 days 00:54:03   \n",
       "\n",
       "                  tarr tdrop  dist  pax_id  \n",
       "60 2022-02-28 15:52:40   NaN  3143      60  \n",
       "38 2022-02-28 15:32:15   NaN  1896      38  \n",
       "23 2022-02-28 15:54:55   NaN  3243      23  "
      ]
     },
     "execution_count": 11,
     "metadata": {},
     "output_type": "execute_result"
    }
   ],
   "source": [
    "demand = [dem.requests for dem in demand_dotmaps]\n",
    "demand[0][:3]"
   ]
  },
  {
   "cell_type": "code",
   "execution_count": 12,
   "id": "ef3a28ee",
   "metadata": {},
   "outputs": [],
   "source": [
    "with open('demand.obj', 'wb') as demand_file:\n",
    "  pickle.dump(demand, demand_file)"
   ]
  },
  {
   "cell_type": "code",
   "execution_count": 13,
   "id": "4e4348e9",
   "metadata": {},
   "outputs": [],
   "source": [
    "with open('kpis.obj', 'wb') as kpis_file:\n",
    "  pickle.dump(exmas_res_extracted, kpis_file)"
   ]
  },
  {
   "cell_type": "code",
   "execution_count": 14,
   "id": "2c6f7a8f",
   "metadata": {
    "tags": [
     "\"hide-output\"",
     "hide-output"
    ]
   },
   "outputs": [],
   "source": [
    "ExMAS.utils.load_G(inData, initial_params, stats=True);"
   ]
  },
  {
   "cell_type": "code",
   "execution_count": 15,
   "id": "e75ea9b9",
   "metadata": {},
   "outputs": [],
   "source": [
    "origins, destinations = zip(*[utils.split_geo_positions(item, inData) for item in demand])"
   ]
  },
  {
   "cell_type": "code",
   "execution_count": 16,
   "id": "14db8a21",
   "metadata": {},
   "outputs": [
    {
     "data": {
      "text/html": [
       "<div>\n",
       "<style scoped>\n",
       "    .dataframe tbody tr th:only-of-type {\n",
       "        vertical-align: middle;\n",
       "    }\n",
       "\n",
       "    .dataframe tbody tr th {\n",
       "        vertical-align: top;\n",
       "    }\n",
       "\n",
       "    .dataframe thead th {\n",
       "        text-align: right;\n",
       "    }\n",
       "</style>\n",
       "<table border=\"1\" class=\"dataframe\">\n",
       "  <thead>\n",
       "    <tr style=\"text-align: right;\">\n",
       "      <th></th>\n",
       "      <th>origin</th>\n",
       "      <th>time_request</th>\n",
       "      <th>x_geo</th>\n",
       "      <th>y_geo</th>\n",
       "    </tr>\n",
       "  </thead>\n",
       "  <tbody>\n",
       "    <tr>\n",
       "      <th>0</th>\n",
       "      <td>5715066940</td>\n",
       "      <td>2022-02-28 15:00:17</td>\n",
       "      <td>4.359206</td>\n",
       "      <td>51.987170</td>\n",
       "    </tr>\n",
       "    <tr>\n",
       "      <th>1</th>\n",
       "      <td>44854736</td>\n",
       "      <td>2022-02-28 15:00:39</td>\n",
       "      <td>4.347923</td>\n",
       "      <td>52.012532</td>\n",
       "    </tr>\n",
       "    <tr>\n",
       "      <th>2</th>\n",
       "      <td>1583992769</td>\n",
       "      <td>2022-02-28 15:00:52</td>\n",
       "      <td>4.351989</td>\n",
       "      <td>51.984965</td>\n",
       "    </tr>\n",
       "  </tbody>\n",
       "</table>\n",
       "</div>"
      ],
      "text/plain": [
       "       origin        time_request     x_geo      y_geo\n",
       "0  5715066940 2022-02-28 15:00:17  4.359206  51.987170\n",
       "1    44854736 2022-02-28 15:00:39  4.347923  52.012532\n",
       "2  1583992769 2022-02-28 15:00:52  4.351989  51.984965"
      ]
     },
     "execution_count": 16,
     "metadata": {},
     "output_type": "execute_result"
    }
   ],
   "source": [
    "origins[0][:3]"
   ]
  },
  {
   "cell_type": "code",
   "execution_count": 17,
   "id": "1b3a7c2b",
   "metadata": {},
   "outputs": [
    {
     "data": {
      "text/html": [
       "<div>\n",
       "<style scoped>\n",
       "    .dataframe tbody tr th:only-of-type {\n",
       "        vertical-align: middle;\n",
       "    }\n",
       "\n",
       "    .dataframe tbody tr th {\n",
       "        vertical-align: top;\n",
       "    }\n",
       "\n",
       "    .dataframe thead th {\n",
       "        text-align: right;\n",
       "    }\n",
       "</style>\n",
       "<table border=\"1\" class=\"dataframe\">\n",
       "  <thead>\n",
       "    <tr style=\"text-align: right;\">\n",
       "      <th></th>\n",
       "      <th>destination</th>\n",
       "      <th>time_request</th>\n",
       "      <th>x_geo</th>\n",
       "      <th>y_geo</th>\n",
       "    </tr>\n",
       "  </thead>\n",
       "  <tbody>\n",
       "    <tr>\n",
       "      <th>0</th>\n",
       "      <td>4594247438</td>\n",
       "      <td>2022-02-28 15:00:17</td>\n",
       "      <td>4.355876</td>\n",
       "      <td>52.009397</td>\n",
       "    </tr>\n",
       "    <tr>\n",
       "      <th>1</th>\n",
       "      <td>894421661</td>\n",
       "      <td>2022-02-28 15:00:39</td>\n",
       "      <td>4.343945</td>\n",
       "      <td>52.000152</td>\n",
       "    </tr>\n",
       "    <tr>\n",
       "      <th>2</th>\n",
       "      <td>44792321</td>\n",
       "      <td>2022-02-28 15:00:52</td>\n",
       "      <td>4.357743</td>\n",
       "      <td>51.998695</td>\n",
       "    </tr>\n",
       "  </tbody>\n",
       "</table>\n",
       "</div>"
      ],
      "text/plain": [
       "   destination        time_request     x_geo      y_geo\n",
       "0   4594247438 2022-02-28 15:00:17  4.355876  52.009397\n",
       "1    894421661 2022-02-28 15:00:39  4.343945  52.000152\n",
       "2     44792321 2022-02-28 15:00:52  4.357743  51.998695"
      ]
     },
     "execution_count": 17,
     "metadata": {},
     "output_type": "execute_result"
    }
   ],
   "source": [
    "destinations[0][:3]"
   ]
  },
  {
   "cell_type": "markdown",
   "id": "a983e2d4",
   "metadata": {},
   "source": [
    "Geo-pandas - poprawa generacji grida; zapytania przestrzenne"
   ]
  },
  {
   "cell_type": "markdown",
   "id": "4d3a0d11",
   "metadata": {},
   "source": [
    "### Choose one of the approaches"
   ]
  },
  {
   "cell_type": "markdown",
   "id": "b5353888",
   "metadata": {},
   "source": [
    "#### Multichannel approach - corresponding to time"
   ]
  },
  {
   "cell_type": "code",
   "execution_count": 18,
   "id": "036d47c2",
   "metadata": {},
   "outputs": [],
   "source": [
    "grid = utils.create_time_space_grid(inData, number_of_space_points=10, parameters=initial_params)\n",
    "\n",
    "pool = mp.Pool(mp.cpu_count())\n",
    "map_origins = [pool.apply(utils.apply_time_space_grid, args=(data, grid)) for data in origins]\n",
    "map_destinations = [pool.apply(utils.apply_time_space_grid, args=(data, grid)) for data in destinations]\n",
    "pool.close()\n",
    "\n",
    "demand_list_tensors = utils.merge_origins_destinations(map_origins, map_destinations)"
   ]
  },
  {
   "cell_type": "markdown",
   "id": "423c547b",
   "metadata": {},
   "source": [
    "#### Snapshot approach"
   ]
  },
  {
   "cell_type": "code",
   "execution_count": 18,
   "id": "19bc2ed9",
   "metadata": {},
   "outputs": [],
   "source": [
    "grid = utils.create_space_grid(inData, 10)\n",
    "\n",
    "pool = mp.Pool(mp.cpu_count())\n",
    "map_origins = [pool.apply(utils.apply_space_grid, args=(data, grid)) for data in origins]\n",
    "map_destinations = [pool.apply(utils.apply_space_grid, args=(data, grid)) for data in destinations]\n",
    "pool.close()\n",
    "\n",
    "demand_list_tensors = utils.merge_origins_destinations(map_origins, map_destinations)"
   ]
  },
  {
   "cell_type": "markdown",
   "id": "5958e983",
   "metadata": {},
   "source": [
    "### End of difference between approaches"
   ]
  },
  {
   "cell_type": "code",
   "execution_count": 19,
   "id": "0207ffde",
   "metadata": {},
   "outputs": [
    {
     "data": {
      "text/plain": [
       "torch.Size([2, 10, 10])"
      ]
     },
     "execution_count": 19,
     "metadata": {},
     "output_type": "execute_result"
    }
   ],
   "source": [
    "demand_list_tensors[0].shape"
   ]
  },
  {
   "cell_type": "code",
   "execution_count": 20,
   "id": "785bae4f",
   "metadata": {},
   "outputs": [
    {
     "data": {
      "text/plain": [
       "tensor([[[ 0.,  0.,  0.,  0.,  0.,  0.,  0.,  0.,  0.,  0.],\n",
       "         [ 0.,  0.,  0.,  0.,  0.,  0.,  0.,  0.,  0.,  0.],\n",
       "         [ 0.,  2.,  1.,  4.,  5.,  0.,  0.,  0.,  0.,  0.],\n",
       "         [ 0.,  1.,  2.,  0.,  1.,  1.,  0.,  0.,  0.,  0.],\n",
       "         [ 0.,  2.,  5.,  2.,  0.,  1.,  1.,  0.,  0.,  0.],\n",
       "         [ 0.,  2.,  1.,  3.,  2.,  1.,  1.,  2.,  0.,  0.],\n",
       "         [ 2.,  1.,  1.,  4.,  1.,  0.,  3.,  1.,  0.,  0.],\n",
       "         [ 0.,  0.,  1.,  0.,  0.,  3.,  0.,  0.,  0.,  0.],\n",
       "         [ 0.,  0.,  0.,  1.,  2.,  0.,  0.,  0.,  0.,  0.],\n",
       "         [ 0.,  0.,  0.,  0.,  0.,  0.,  0.,  0.,  0.,  0.]],\n",
       "\n",
       "        [[ 0.,  0.,  0.,  0.,  0.,  0.,  0.,  0.,  0.,  0.],\n",
       "         [ 0.,  1.,  0.,  0.,  0.,  0.,  0.,  0.,  0.,  0.],\n",
       "         [ 0.,  0.,  1.,  2.,  1.,  0.,  0.,  0.,  0.,  0.],\n",
       "         [ 0.,  0.,  1.,  1.,  1.,  0.,  0.,  0.,  0.,  0.],\n",
       "         [ 0.,  1.,  1.,  3.,  3.,  0.,  0.,  0.,  0.,  0.],\n",
       "         [ 0.,  2.,  3., 12.,  2.,  0.,  0.,  0.,  0.,  0.],\n",
       "         [ 0.,  3.,  2.,  9.,  3.,  0.,  0.,  0.,  0.,  0.],\n",
       "         [ 0.,  1.,  3.,  0.,  1.,  1.,  1.,  0.,  0.,  0.],\n",
       "         [ 0.,  0.,  0.,  0.,  0.,  0.,  0.,  0.,  0.,  0.],\n",
       "         [ 0.,  0.,  0.,  1.,  0.,  0.,  0.,  0.,  0.,  0.]]])"
      ]
     },
     "execution_count": 20,
     "metadata": {},
     "output_type": "execute_result"
    }
   ],
   "source": [
    "demand_list_tensors[0]"
   ]
  },
  {
   "cell_type": "code",
   "execution_count": 21,
   "id": "8b9e776a",
   "metadata": {},
   "outputs": [
    {
     "data": {
      "text/plain": [
       "tensor(0.2720)"
      ]
     },
     "execution_count": 21,
     "metadata": {},
     "output_type": "execute_result"
    }
   ],
   "source": [
    "results_list_tensors = [torch.tensor(a) for a in exmas_res_extracted]\n",
    "results_list_tensors[0]"
   ]
  },
  {
   "cell_type": "code",
   "execution_count": 22,
   "id": "94231441",
   "metadata": {},
   "outputs": [],
   "source": [
    "whole_dataset = utils.WholeDataset(demand_list_tensors, results_list_tensors)\n",
    "train_size = int(0.8 * len(whole_dataset))\n",
    "test_size = len(whole_dataset) - train_size\n",
    "train_dataset, test_dataset = torch.utils.data.random_split(whole_dataset, [train_size, test_size])"
   ]
  },
  {
   "cell_type": "code",
   "execution_count": 23,
   "id": "ca75b76a",
   "metadata": {},
   "outputs": [],
   "source": [
    "torch.save(train_dataset, 'train_dataset.pt')\n",
    "torch.save(test_dataset, 'test_dataset.pt')"
   ]
  },
  {
   "cell_type": "code",
   "execution_count": 72,
   "id": "cbb7489f",
   "metadata": {},
   "outputs": [],
   "source": [
    "train_dataset = torch.load('train_dataset.pt')\n",
    "test_dataset = torch.load('test_dataset.pt')"
   ]
  },
  {
   "cell_type": "code",
   "execution_count": 24,
   "id": "02bf7274",
   "metadata": {},
   "outputs": [
    {
     "data": {
      "image/png": "[encoded data removed]",
      "text/plain": [
       "<Figure size 432x288 with 1 Axes>"
      ]
     },
     "metadata": {
      "needs_background": "light"
     },
     "output_type": "display_data"
    }
   ],
   "source": [
    "kpis = [train_dataset.dataset.labels[t] for t in train_dataset.indices]\n",
    "plt.hist(kpis, bins=4)\n",
    "plt.show()"
   ]
  },
  {
   "cell_type": "markdown",
   "id": "476d30c8",
   "metadata": {},
   "source": [
    "More sofisticated VAE can be taken from: https://github.com/AntixK/PyTorch-VAE"
   ]
  },
  {
   "cell_type": "markdown",
   "id": "3ac73a58",
   "metadata": {},
   "source": [
    "# Neural Network"
   ]
  },
  {
   "cell_type": "markdown",
   "id": "325d89bd",
   "metadata": {},
   "source": [
    "## Autoencoder"
   ]
  },
  {
   "cell_type": "code",
   "execution_count": 25,
   "id": "a1e73bac",
   "metadata": {},
   "outputs": [],
   "source": [
    "import torch\n",
    "import torch.nn as nn\n",
    "\n",
    "import numpy as np\n",
    "\n",
    "from torchvision.utils import save_image, make_grid\n",
    "import torch.nn.functional as F"
   ]
  },
  {
   "cell_type": "code",
   "execution_count": 285,
   "id": "7294f384",
   "metadata": {},
   "outputs": [],
   "source": [
    "cuda = True\n",
    "DEVICE = torch.device(\"cuda\" if cuda else \"cpu\")\n",
    "\n",
    "batch_size = 4\n",
    "\n",
    "x_dim  = 2*10*10\n",
    "hidden_dim = 100\n",
    "latent_dim = 32\n",
    "\n",
    "lr = 1e-3\n",
    "epochs = 30\n",
    "DEVICE"
   ]
  },
  {
   "cell_type": "markdown",
   "id": "75e97ef7",
   "metadata": {},
   "source": [
    "## Load data"
   ]
  },
  {
   "cell_type": "code",
   "execution_count": 286,
   "id": "60fb4feb",
   "metadata": {},
   "outputs": [],
   "source": [
    "train_loader = DataLoader(train_dataset, batch_size=batch_size, shuffle=True, num_workers = 4)\n",
    "test_loader = DataLoader(test_dataset, batch_size=batch_size, shuffle=True, num_workers = 4)"
   ]
  },
  {
   "cell_type": "code",
   "execution_count": 287,
   "id": "b7cd4ce1",
   "metadata": {},
   "outputs": [
    {
     "data": {
      "text/plain": [
       "torch.Size([4, 2, 10, 10])"
      ]
     },
     "execution_count": 287,
     "metadata": {},
     "output_type": "execute_result"
    }
   ],
   "source": [
    "x,y = next(iter(train_loader))\n",
    "x.shape"
   ]
  },
  {
   "cell_type": "markdown",
   "id": "f8b70eb2",
   "metadata": {},
   "source": [
    "### Encoder"
   ]
  },
  {
   "cell_type": "code",
   "execution_count": 288,
   "id": "cfb8ea5d",
   "metadata": {},
   "outputs": [],
   "source": [
    "class Encoder(nn.Module):\n",
    "    \n",
    "    def __init__(self, input_dim, hidden_dim, latent_dim):\n",
    "        super(Encoder, self).__init__()\n",
    "\n",
    "        self.FC_input = nn.Linear(input_dim, hidden_dim)\n",
    "        self.FC_input2 = nn.Linear(hidden_dim, hidden_dim)\n",
    "        self.FC_mean  = nn.Linear(hidden_dim, latent_dim)\n",
    "        self.FC_var   = nn.Linear (hidden_dim, latent_dim)\n",
    "        \n",
    "        self.LeakyReLU = nn.LeakyReLU(0.2)\n",
    "        \n",
    "        self.training = True\n",
    "        \n",
    "    def forward(self, x):\n",
    "        h_       = self.LeakyReLU(self.FC_input(x))\n",
    "        h_       = self.LeakyReLU(self.FC_input2(h_))\n",
    "        mean     = self.FC_mean(h_)\n",
    "        log_var  = self.FC_var(h_)                     \n",
    "        \n",
    "        return mean, log_var"
   ]
  },
  {
   "cell_type": "code",
   "execution_count": 289,
   "id": "dcbdf371",
   "metadata": {},
   "outputs": [],
   "source": [
    "class Encoder2(nn.Module):\n",
    "    \n",
    "    def __init__(self, latent_dim, input_channels):\n",
    "        super(Encoder2, self).__init__()\n",
    "        \n",
    "        self.latent_dim = latent_dim\n",
    "\n",
    "        modules = []\n",
    "        hidden_dims = [32, 64, 128, 256, 512,1000]\n",
    "        in_channels = input_channels\n",
    "\n",
    "        for h_dim in hidden_dims:\n",
    "            modules.append(\n",
    "                nn.Sequential(\n",
    "                    nn.Conv2d(in_channels=in_channels, out_channels=h_dim,\n",
    "                              kernel_size= 3, stride= 2, padding  = 1),\n",
    "                    nn.BatchNorm2d(h_dim),\n",
    "                    nn.LeakyReLU())\n",
    "            )\n",
    "            in_channels = h_dim\n",
    "\n",
    "        self.encoder = nn.Sequential(*modules)\n",
    "#         self.fc_mu = nn.Linear(hidden_dims[-1]*4, latent_dim)\n",
    "#         self.fc_var = nn.Linear(hidden_dims[-1]*4, latent_dim)\n",
    "        self.fc_mu = nn.Linear(hidden_dims[-1], latent_dim)\n",
    "        self.fc_var = nn.Linear(hidden_dims[-1], latent_dim)\n",
    "        \n",
    "        self.training = True\n",
    "        \n",
    "    def forward(self, x):\n",
    "        result = self.encoder(x)\n",
    "        result = torch.flatten(result, start_dim=1)\n",
    "\n",
    "        mu = self.fc_mu(result)\n",
    "        log_var = self.fc_var(result)\n",
    "\n",
    "        return mu, log_var"
   ]
  },
  {
   "cell_type": "markdown",
   "id": "f0dcf73a",
   "metadata": {},
   "source": [
    "### Decoder"
   ]
  },
  {
   "cell_type": "code",
   "execution_count": 290,
   "id": "0a043b03",
   "metadata": {},
   "outputs": [],
   "source": [
    "class Decoder(nn.Module):\n",
    "    def __init__(self, latent_dim, hidden_dim, output_dim):\n",
    "        super(Decoder, self).__init__()\n",
    "        self.FC_hidden = nn.Linear(latent_dim, hidden_dim)\n",
    "        self.FC_hidden2 = nn.Linear(hidden_dim, hidden_dim)\n",
    "        self.FC_output = nn.Linear(hidden_dim, output_dim)\n",
    "        \n",
    "        self.LeakyReLU = nn.LeakyReLU(0.2)\n",
    "        \n",
    "    def forward(self, x):\n",
    "        h     = self.LeakyReLU(self.FC_hidden(x))\n",
    "        h     = self.LeakyReLU(self.FC_hidden2(h))\n",
    "        \n",
    "        x_hat = torch.sigmoid(self.FC_output(h))\n",
    "        return x_hat"
   ]
  },
  {
   "cell_type": "code",
   "execution_count": 291,
   "id": "ee881bb6",
   "metadata": {},
   "outputs": [],
   "source": [
    "class Decoder2(nn.Module):\n",
    "    def __init__(self, latent_dim, batch_size):\n",
    "        super(Decoder2, self).__init__()\n",
    "        \n",
    "        hidden_dims = [32, 64, 128, 256, 512]\n",
    "        hidden_dims.reverse()\n",
    "        \n",
    "#         self.decoder_input = nn.Linear(latent_dim, hidden_dims[-1]*10*10)\n",
    "        self.decoder_input = nn.Linear(latent_dim, hidden_dims[-1])\n",
    "        \n",
    "        modules = []\n",
    "        \n",
    "        for i in range(len(hidden_dims) - 1):\n",
    "            modules.append(\n",
    "                nn.Sequential(\n",
    "                    nn.ConvTranspose2d(hidden_dims[i],\n",
    "                                       hidden_dims[i + 1],\n",
    "                                       kernel_size=3,\n",
    "                                       stride = 2,\n",
    "                                       padding=1,\n",
    "                                       output_padding=1),\n",
    "                    nn.BatchNorm2d(hidden_dims[i + 1]),\n",
    "                    nn.LeakyReLU())\n",
    "            )\n",
    "\n",
    "\n",
    "\n",
    "        self.decoder = nn.Sequential(*modules)\n",
    "\n",
    "        self.final_layer = nn.Sequential(\n",
    "                            nn.ConvTranspose2d(hidden_dims[-1],\n",
    "                                               hidden_dims[-1],\n",
    "                                               kernel_size=3,\n",
    "                                               stride=2,\n",
    "                                               padding=1,\n",
    "                                               output_padding=1),\n",
    "                            nn.BatchNorm2d(hidden_dims[-1]),\n",
    "                            nn.LeakyReLU(),\n",
    "                            nn.Conv2d(hidden_dims[-1], out_channels= 2,\n",
    "                                      kernel_size= 3, padding= 1),\n",
    "                            nn.Tanh())\n",
    "        \n",
    "    def forward(self, x):\n",
    "        print('Input for decoder: ', x.shape)\n",
    "        result = self.decoder_input(x)\n",
    "        print('Decoder_input:', result.shape)\n",
    "#         result = result.view(-1, 512, 2, 2)\n",
    "#         result = result.view(-1, 2, 10, 10)\n",
    "        print('Results shape:', result.shape)\n",
    "        result = self.decoder(result)\n",
    "        result = self.final_layer(result)\n",
    "\n",
    "        return result"
   ]
  },
  {
   "cell_type": "markdown",
   "id": "2c2fa5a2",
   "metadata": {},
   "source": [
    "### Together"
   ]
  },
  {
   "cell_type": "code",
   "execution_count": 292,
   "id": "f6e586b6",
   "metadata": {},
   "outputs": [],
   "source": [
    "class VAE(nn.Module):\n",
    "    def __init__(self, Encoder, Decoder):\n",
    "        super(VAE, self).__init__()\n",
    "        self.Encoder = Encoder\n",
    "        self.Decoder = Decoder\n",
    "        \n",
    "    def reparameterization(self, mean, var):\n",
    "        epsilon = torch.randn_like(var).to(DEVICE)        # sampling epsilon        \n",
    "        z = mean + var*epsilon                          # reparameterization trick\n",
    "        return z\n",
    "                  \n",
    "    def forward(self, x):\n",
    "        mean, log_var = self.Encoder(x)\n",
    "        z = self.reparameterization(mean, torch.exp(0.5 * log_var)) # takes exponential function (log var -> var)\n",
    "        x_hat = self.Decoder(z)\n",
    "        \n",
    "        return x_hat, mean, log_var"
   ]
  },
  {
   "cell_type": "markdown",
   "id": "b2fbe1ef",
   "metadata": {},
   "source": [
    "## Model declaration"
   ]
  },
  {
   "cell_type": "code",
   "execution_count": 293,
   "id": "2ed124f3",
   "metadata": {},
   "outputs": [],
   "source": [
    "encoder = Encoder(input_dim=x_dim, hidden_dim=hidden_dim, latent_dim=latent_dim)\n",
    "encoder2 = Encoder2(latent_dim=20, input_channels=2)\n",
    "decoder = Decoder(latent_dim=latent_dim, hidden_dim = hidden_dim, output_dim = x_dim)\n",
    "decoder2 = Decoder2(latent_dim=20, batch_size=batch_size)\n",
    "\n",
    "autoencoder = VAE(Encoder=encoder2, Decoder=decoder2).to(DEVICE)"
   ]
  },
  {
   "cell_type": "markdown",
   "id": "d1f713d2",
   "metadata": {},
   "source": [
    "## Loss function and optimizer"
   ]
  },
  {
   "cell_type": "code",
   "execution_count": 294,
   "id": "cd5b204c",
   "metadata": {},
   "outputs": [],
   "source": [
    "from torch.optim import Adam\n",
    "\n",
    "BCE_loss = nn.BCELoss()\n",
    "\n",
    "def loss_function(x, x_hat, mean, log_var):\n",
    "    reproduction_loss = nn.functional.binary_cross_entropy(x_hat, x, reduction='sum')\n",
    "    KLD      = - 0.5 * torch.sum(1+ log_var - mean.pow(2) - log_var.exp())\n",
    "\n",
    "    return reproduction_loss + KLD\n",
    "\n",
    "\n",
    "optimizer = Adam(autoencoder.parameters(), lr=lr)"
   ]
  },
  {
   "cell_type": "markdown",
   "id": "5055baf2",
   "metadata": {},
   "source": [
    "## Training"
   ]
  },
  {
   "cell_type": "code",
   "execution_count": 295,
   "id": "435bbc7d",
   "metadata": {},
   "outputs": [
    {
     "name": "stdout",
     "output_type": "stream",
     "text": [
      "Start training VAE...\n",
      "Input for decoder:  torch.Size([4, 20])\n",
      "Decoder_input: torch.Size([4, 32])\n",
      "Results shape: torch.Size([4, 32])\n"
     ]
    },
    {
     "ename": "RuntimeError",
     "evalue": "Expected 4-dimensional input for 4-dimensional weight [512, 256, 3, 3], but got 2-dimensional input of size [4, 32] instead",
     "output_type": "error",
     "traceback": [
      "\u001b[1;31m---------------------------------------------------------------------------\u001b[0m",
      "\u001b[1;31mRuntimeError\u001b[0m                              Traceback (most recent call last)",
      "\u001b[1;32m~\\AppData\\Local\\Temp/ipykernel_7496/2871788618.py\u001b[0m in \u001b[0;36m<module>\u001b[1;34m\u001b[0m\n\u001b[0;32m     10\u001b[0m         \u001b[0moptimizer\u001b[0m\u001b[1;33m.\u001b[0m\u001b[0mzero_grad\u001b[0m\u001b[1;33m(\u001b[0m\u001b[1;33m)\u001b[0m\u001b[1;33m\u001b[0m\u001b[1;33m\u001b[0m\u001b[0m\n\u001b[0;32m     11\u001b[0m \u001b[1;33m\u001b[0m\u001b[0m\n\u001b[1;32m---> 12\u001b[1;33m         \u001b[0mx_hat\u001b[0m\u001b[1;33m,\u001b[0m \u001b[0mmean\u001b[0m\u001b[1;33m,\u001b[0m \u001b[0mlog_var\u001b[0m \u001b[1;33m=\u001b[0m \u001b[0mautoencoder\u001b[0m\u001b[1;33m(\u001b[0m\u001b[0mx\u001b[0m\u001b[1;33m)\u001b[0m\u001b[1;33m\u001b[0m\u001b[1;33m\u001b[0m\u001b[0m\n\u001b[0m\u001b[0;32m     13\u001b[0m         \u001b[0mprint\u001b[0m\u001b[1;33m(\u001b[0m\u001b[1;34m'x: '\u001b[0m\u001b[1;33m,\u001b[0m \u001b[0mx\u001b[0m\u001b[1;33m.\u001b[0m\u001b[0mshape\u001b[0m\u001b[1;33m,\u001b[0m \u001b[1;34m'/n'\u001b[0m\u001b[1;33m)\u001b[0m\u001b[1;33m\u001b[0m\u001b[1;33m\u001b[0m\u001b[0m\n\u001b[0;32m     14\u001b[0m         \u001b[0mprint\u001b[0m\u001b[1;33m(\u001b[0m\u001b[1;34m'x_hat: '\u001b[0m\u001b[1;33m,\u001b[0m \u001b[0mx_hat\u001b[0m\u001b[1;33m.\u001b[0m\u001b[0mshape\u001b[0m\u001b[1;33m,\u001b[0m \u001b[1;34m'/n'\u001b[0m\u001b[1;33m)\u001b[0m\u001b[1;33m\u001b[0m\u001b[1;33m\u001b[0m\u001b[0m\n",
      "\u001b[1;32m~\\miniconda3\\envs\\ox\\lib\\site-packages\\torch\\nn\\modules\\module.py\u001b[0m in \u001b[0;36m_call_impl\u001b[1;34m(self, *input, **kwargs)\u001b[0m\n\u001b[0;32m   1100\u001b[0m         if not (self._backward_hooks or self._forward_hooks or self._forward_pre_hooks or _global_backward_hooks\n\u001b[0;32m   1101\u001b[0m                 or _global_forward_hooks or _global_forward_pre_hooks):\n\u001b[1;32m-> 1102\u001b[1;33m             \u001b[1;32mreturn\u001b[0m \u001b[0mforward_call\u001b[0m\u001b[1;33m(\u001b[0m\u001b[1;33m*\u001b[0m\u001b[0minput\u001b[0m\u001b[1;33m,\u001b[0m \u001b[1;33m**\u001b[0m\u001b[0mkwargs\u001b[0m\u001b[1;33m)\u001b[0m\u001b[1;33m\u001b[0m\u001b[1;33m\u001b[0m\u001b[0m\n\u001b[0m\u001b[0;32m   1103\u001b[0m         \u001b[1;31m# Do not call functions when jit is used\u001b[0m\u001b[1;33m\u001b[0m\u001b[1;33m\u001b[0m\u001b[0m\n\u001b[0;32m   1104\u001b[0m         \u001b[0mfull_backward_hooks\u001b[0m\u001b[1;33m,\u001b[0m \u001b[0mnon_full_backward_hooks\u001b[0m \u001b[1;33m=\u001b[0m \u001b[1;33m[\u001b[0m\u001b[1;33m]\u001b[0m\u001b[1;33m,\u001b[0m \u001b[1;33m[\u001b[0m\u001b[1;33m]\u001b[0m\u001b[1;33m\u001b[0m\u001b[1;33m\u001b[0m\u001b[0m\n",
      "\u001b[1;32m~\\AppData\\Local\\Temp/ipykernel_7496/926656139.py\u001b[0m in \u001b[0;36mforward\u001b[1;34m(self, x)\u001b[0m\n\u001b[0;32m     13\u001b[0m         \u001b[0mmean\u001b[0m\u001b[1;33m,\u001b[0m \u001b[0mlog_var\u001b[0m \u001b[1;33m=\u001b[0m \u001b[0mself\u001b[0m\u001b[1;33m.\u001b[0m\u001b[0mEncoder\u001b[0m\u001b[1;33m(\u001b[0m\u001b[0mx\u001b[0m\u001b[1;33m)\u001b[0m\u001b[1;33m\u001b[0m\u001b[1;33m\u001b[0m\u001b[0m\n\u001b[0;32m     14\u001b[0m         \u001b[0mz\u001b[0m \u001b[1;33m=\u001b[0m \u001b[0mself\u001b[0m\u001b[1;33m.\u001b[0m\u001b[0mreparameterization\u001b[0m\u001b[1;33m(\u001b[0m\u001b[0mmean\u001b[0m\u001b[1;33m,\u001b[0m \u001b[0mtorch\u001b[0m\u001b[1;33m.\u001b[0m\u001b[0mexp\u001b[0m\u001b[1;33m(\u001b[0m\u001b[1;36m0.5\u001b[0m \u001b[1;33m*\u001b[0m \u001b[0mlog_var\u001b[0m\u001b[1;33m)\u001b[0m\u001b[1;33m)\u001b[0m \u001b[1;31m# takes exponential function (log var -> var)\u001b[0m\u001b[1;33m\u001b[0m\u001b[1;33m\u001b[0m\u001b[0m\n\u001b[1;32m---> 15\u001b[1;33m         \u001b[0mx_hat\u001b[0m \u001b[1;33m=\u001b[0m \u001b[0mself\u001b[0m\u001b[1;33m.\u001b[0m\u001b[0mDecoder\u001b[0m\u001b[1;33m(\u001b[0m\u001b[0mz\u001b[0m\u001b[1;33m)\u001b[0m\u001b[1;33m\u001b[0m\u001b[1;33m\u001b[0m\u001b[0m\n\u001b[0m\u001b[0;32m     16\u001b[0m \u001b[1;33m\u001b[0m\u001b[0m\n\u001b[0;32m     17\u001b[0m         \u001b[1;32mreturn\u001b[0m \u001b[0mx_hat\u001b[0m\u001b[1;33m,\u001b[0m \u001b[0mmean\u001b[0m\u001b[1;33m,\u001b[0m \u001b[0mlog_var\u001b[0m\u001b[1;33m\u001b[0m\u001b[1;33m\u001b[0m\u001b[0m\n",
      "\u001b[1;32m~\\miniconda3\\envs\\ox\\lib\\site-packages\\torch\\nn\\modules\\module.py\u001b[0m in \u001b[0;36m_call_impl\u001b[1;34m(self, *input, **kwargs)\u001b[0m\n\u001b[0;32m   1100\u001b[0m         if not (self._backward_hooks or self._forward_hooks or self._forward_pre_hooks or _global_backward_hooks\n\u001b[0;32m   1101\u001b[0m                 or _global_forward_hooks or _global_forward_pre_hooks):\n\u001b[1;32m-> 1102\u001b[1;33m             \u001b[1;32mreturn\u001b[0m \u001b[0mforward_call\u001b[0m\u001b[1;33m(\u001b[0m\u001b[1;33m*\u001b[0m\u001b[0minput\u001b[0m\u001b[1;33m,\u001b[0m \u001b[1;33m**\u001b[0m\u001b[0mkwargs\u001b[0m\u001b[1;33m)\u001b[0m\u001b[1;33m\u001b[0m\u001b[1;33m\u001b[0m\u001b[0m\n\u001b[0m\u001b[0;32m   1103\u001b[0m         \u001b[1;31m# Do not call functions when jit is used\u001b[0m\u001b[1;33m\u001b[0m\u001b[1;33m\u001b[0m\u001b[0m\n\u001b[0;32m   1104\u001b[0m         \u001b[0mfull_backward_hooks\u001b[0m\u001b[1;33m,\u001b[0m \u001b[0mnon_full_backward_hooks\u001b[0m \u001b[1;33m=\u001b[0m \u001b[1;33m[\u001b[0m\u001b[1;33m]\u001b[0m\u001b[1;33m,\u001b[0m \u001b[1;33m[\u001b[0m\u001b[1;33m]\u001b[0m\u001b[1;33m\u001b[0m\u001b[1;33m\u001b[0m\u001b[0m\n",
      "\u001b[1;32m~\\AppData\\Local\\Temp/ipykernel_7496/1663754623.py\u001b[0m in \u001b[0;36mforward\u001b[1;34m(self, x)\u001b[0m\n\u001b[0;32m     48\u001b[0m \u001b[1;31m#         result = result.view(-1, 2, 10, 10)\u001b[0m\u001b[1;33m\u001b[0m\u001b[1;33m\u001b[0m\u001b[0m\n\u001b[0;32m     49\u001b[0m         \u001b[0mprint\u001b[0m\u001b[1;33m(\u001b[0m\u001b[1;34m'Results shape:'\u001b[0m\u001b[1;33m,\u001b[0m \u001b[0mresult\u001b[0m\u001b[1;33m.\u001b[0m\u001b[0mshape\u001b[0m\u001b[1;33m)\u001b[0m\u001b[1;33m\u001b[0m\u001b[1;33m\u001b[0m\u001b[0m\n\u001b[1;32m---> 50\u001b[1;33m         \u001b[0mresult\u001b[0m \u001b[1;33m=\u001b[0m \u001b[0mself\u001b[0m\u001b[1;33m.\u001b[0m\u001b[0mdecoder\u001b[0m\u001b[1;33m(\u001b[0m\u001b[0mresult\u001b[0m\u001b[1;33m)\u001b[0m\u001b[1;33m\u001b[0m\u001b[1;33m\u001b[0m\u001b[0m\n\u001b[0m\u001b[0;32m     51\u001b[0m         \u001b[0mresult\u001b[0m \u001b[1;33m=\u001b[0m \u001b[0mself\u001b[0m\u001b[1;33m.\u001b[0m\u001b[0mfinal_layer\u001b[0m\u001b[1;33m(\u001b[0m\u001b[0mresult\u001b[0m\u001b[1;33m)\u001b[0m\u001b[1;33m\u001b[0m\u001b[1;33m\u001b[0m\u001b[0m\n\u001b[0;32m     52\u001b[0m \u001b[1;33m\u001b[0m\u001b[0m\n",
      "\u001b[1;32m~\\miniconda3\\envs\\ox\\lib\\site-packages\\torch\\nn\\modules\\module.py\u001b[0m in \u001b[0;36m_call_impl\u001b[1;34m(self, *input, **kwargs)\u001b[0m\n\u001b[0;32m   1100\u001b[0m         if not (self._backward_hooks or self._forward_hooks or self._forward_pre_hooks or _global_backward_hooks\n\u001b[0;32m   1101\u001b[0m                 or _global_forward_hooks or _global_forward_pre_hooks):\n\u001b[1;32m-> 1102\u001b[1;33m             \u001b[1;32mreturn\u001b[0m \u001b[0mforward_call\u001b[0m\u001b[1;33m(\u001b[0m\u001b[1;33m*\u001b[0m\u001b[0minput\u001b[0m\u001b[1;33m,\u001b[0m \u001b[1;33m**\u001b[0m\u001b[0mkwargs\u001b[0m\u001b[1;33m)\u001b[0m\u001b[1;33m\u001b[0m\u001b[1;33m\u001b[0m\u001b[0m\n\u001b[0m\u001b[0;32m   1103\u001b[0m         \u001b[1;31m# Do not call functions when jit is used\u001b[0m\u001b[1;33m\u001b[0m\u001b[1;33m\u001b[0m\u001b[0m\n\u001b[0;32m   1104\u001b[0m         \u001b[0mfull_backward_hooks\u001b[0m\u001b[1;33m,\u001b[0m \u001b[0mnon_full_backward_hooks\u001b[0m \u001b[1;33m=\u001b[0m \u001b[1;33m[\u001b[0m\u001b[1;33m]\u001b[0m\u001b[1;33m,\u001b[0m \u001b[1;33m[\u001b[0m\u001b[1;33m]\u001b[0m\u001b[1;33m\u001b[0m\u001b[1;33m\u001b[0m\u001b[0m\n",
      "\u001b[1;32m~\\miniconda3\\envs\\ox\\lib\\site-packages\\torch\\nn\\modules\\container.py\u001b[0m in \u001b[0;36mforward\u001b[1;34m(self, input)\u001b[0m\n\u001b[0;32m    139\u001b[0m     \u001b[1;32mdef\u001b[0m \u001b[0mforward\u001b[0m\u001b[1;33m(\u001b[0m\u001b[0mself\u001b[0m\u001b[1;33m,\u001b[0m \u001b[0minput\u001b[0m\u001b[1;33m)\u001b[0m\u001b[1;33m:\u001b[0m\u001b[1;33m\u001b[0m\u001b[1;33m\u001b[0m\u001b[0m\n\u001b[0;32m    140\u001b[0m         \u001b[1;32mfor\u001b[0m \u001b[0mmodule\u001b[0m \u001b[1;32min\u001b[0m \u001b[0mself\u001b[0m\u001b[1;33m:\u001b[0m\u001b[1;33m\u001b[0m\u001b[1;33m\u001b[0m\u001b[0m\n\u001b[1;32m--> 141\u001b[1;33m             \u001b[0minput\u001b[0m \u001b[1;33m=\u001b[0m \u001b[0mmodule\u001b[0m\u001b[1;33m(\u001b[0m\u001b[0minput\u001b[0m\u001b[1;33m)\u001b[0m\u001b[1;33m\u001b[0m\u001b[1;33m\u001b[0m\u001b[0m\n\u001b[0m\u001b[0;32m    142\u001b[0m         \u001b[1;32mreturn\u001b[0m \u001b[0minput\u001b[0m\u001b[1;33m\u001b[0m\u001b[1;33m\u001b[0m\u001b[0m\n\u001b[0;32m    143\u001b[0m \u001b[1;33m\u001b[0m\u001b[0m\n",
      "\u001b[1;32m~\\miniconda3\\envs\\ox\\lib\\site-packages\\torch\\nn\\modules\\module.py\u001b[0m in \u001b[0;36m_call_impl\u001b[1;34m(self, *input, **kwargs)\u001b[0m\n\u001b[0;32m   1100\u001b[0m         if not (self._backward_hooks or self._forward_hooks or self._forward_pre_hooks or _global_backward_hooks\n\u001b[0;32m   1101\u001b[0m                 or _global_forward_hooks or _global_forward_pre_hooks):\n\u001b[1;32m-> 1102\u001b[1;33m             \u001b[1;32mreturn\u001b[0m \u001b[0mforward_call\u001b[0m\u001b[1;33m(\u001b[0m\u001b[1;33m*\u001b[0m\u001b[0minput\u001b[0m\u001b[1;33m,\u001b[0m \u001b[1;33m**\u001b[0m\u001b[0mkwargs\u001b[0m\u001b[1;33m)\u001b[0m\u001b[1;33m\u001b[0m\u001b[1;33m\u001b[0m\u001b[0m\n\u001b[0m\u001b[0;32m   1103\u001b[0m         \u001b[1;31m# Do not call functions when jit is used\u001b[0m\u001b[1;33m\u001b[0m\u001b[1;33m\u001b[0m\u001b[0m\n\u001b[0;32m   1104\u001b[0m         \u001b[0mfull_backward_hooks\u001b[0m\u001b[1;33m,\u001b[0m \u001b[0mnon_full_backward_hooks\u001b[0m \u001b[1;33m=\u001b[0m \u001b[1;33m[\u001b[0m\u001b[1;33m]\u001b[0m\u001b[1;33m,\u001b[0m \u001b[1;33m[\u001b[0m\u001b[1;33m]\u001b[0m\u001b[1;33m\u001b[0m\u001b[1;33m\u001b[0m\u001b[0m\n",
      "\u001b[1;32m~\\miniconda3\\envs\\ox\\lib\\site-packages\\torch\\nn\\modules\\container.py\u001b[0m in \u001b[0;36mforward\u001b[1;34m(self, input)\u001b[0m\n\u001b[0;32m    139\u001b[0m     \u001b[1;32mdef\u001b[0m \u001b[0mforward\u001b[0m\u001b[1;33m(\u001b[0m\u001b[0mself\u001b[0m\u001b[1;33m,\u001b[0m \u001b[0minput\u001b[0m\u001b[1;33m)\u001b[0m\u001b[1;33m:\u001b[0m\u001b[1;33m\u001b[0m\u001b[1;33m\u001b[0m\u001b[0m\n\u001b[0;32m    140\u001b[0m         \u001b[1;32mfor\u001b[0m \u001b[0mmodule\u001b[0m \u001b[1;32min\u001b[0m \u001b[0mself\u001b[0m\u001b[1;33m:\u001b[0m\u001b[1;33m\u001b[0m\u001b[1;33m\u001b[0m\u001b[0m\n\u001b[1;32m--> 141\u001b[1;33m             \u001b[0minput\u001b[0m \u001b[1;33m=\u001b[0m \u001b[0mmodule\u001b[0m\u001b[1;33m(\u001b[0m\u001b[0minput\u001b[0m\u001b[1;33m)\u001b[0m\u001b[1;33m\u001b[0m\u001b[1;33m\u001b[0m\u001b[0m\n\u001b[0m\u001b[0;32m    142\u001b[0m         \u001b[1;32mreturn\u001b[0m \u001b[0minput\u001b[0m\u001b[1;33m\u001b[0m\u001b[1;33m\u001b[0m\u001b[0m\n\u001b[0;32m    143\u001b[0m \u001b[1;33m\u001b[0m\u001b[0m\n",
      "\u001b[1;32m~\\miniconda3\\envs\\ox\\lib\\site-packages\\torch\\nn\\modules\\module.py\u001b[0m in \u001b[0;36m_call_impl\u001b[1;34m(self, *input, **kwargs)\u001b[0m\n\u001b[0;32m   1100\u001b[0m         if not (self._backward_hooks or self._forward_hooks or self._forward_pre_hooks or _global_backward_hooks\n\u001b[0;32m   1101\u001b[0m                 or _global_forward_hooks or _global_forward_pre_hooks):\n\u001b[1;32m-> 1102\u001b[1;33m             \u001b[1;32mreturn\u001b[0m \u001b[0mforward_call\u001b[0m\u001b[1;33m(\u001b[0m\u001b[1;33m*\u001b[0m\u001b[0minput\u001b[0m\u001b[1;33m,\u001b[0m \u001b[1;33m**\u001b[0m\u001b[0mkwargs\u001b[0m\u001b[1;33m)\u001b[0m\u001b[1;33m\u001b[0m\u001b[1;33m\u001b[0m\u001b[0m\n\u001b[0m\u001b[0;32m   1103\u001b[0m         \u001b[1;31m# Do not call functions when jit is used\u001b[0m\u001b[1;33m\u001b[0m\u001b[1;33m\u001b[0m\u001b[0m\n\u001b[0;32m   1104\u001b[0m         \u001b[0mfull_backward_hooks\u001b[0m\u001b[1;33m,\u001b[0m \u001b[0mnon_full_backward_hooks\u001b[0m \u001b[1;33m=\u001b[0m \u001b[1;33m[\u001b[0m\u001b[1;33m]\u001b[0m\u001b[1;33m,\u001b[0m \u001b[1;33m[\u001b[0m\u001b[1;33m]\u001b[0m\u001b[1;33m\u001b[0m\u001b[1;33m\u001b[0m\u001b[0m\n",
      "\u001b[1;32m~\\miniconda3\\envs\\ox\\lib\\site-packages\\torch\\nn\\modules\\conv.py\u001b[0m in \u001b[0;36mforward\u001b[1;34m(self, input, output_size)\u001b[0m\n\u001b[0;32m    921\u001b[0m             input, output_size, self.stride, self.padding, self.kernel_size, self.dilation)  # type: ignore[arg-type]\n\u001b[0;32m    922\u001b[0m \u001b[1;33m\u001b[0m\u001b[0m\n\u001b[1;32m--> 923\u001b[1;33m         return F.conv_transpose2d(\n\u001b[0m\u001b[0;32m    924\u001b[0m             \u001b[0minput\u001b[0m\u001b[1;33m,\u001b[0m \u001b[0mself\u001b[0m\u001b[1;33m.\u001b[0m\u001b[0mweight\u001b[0m\u001b[1;33m,\u001b[0m \u001b[0mself\u001b[0m\u001b[1;33m.\u001b[0m\u001b[0mbias\u001b[0m\u001b[1;33m,\u001b[0m \u001b[0mself\u001b[0m\u001b[1;33m.\u001b[0m\u001b[0mstride\u001b[0m\u001b[1;33m,\u001b[0m \u001b[0mself\u001b[0m\u001b[1;33m.\u001b[0m\u001b[0mpadding\u001b[0m\u001b[1;33m,\u001b[0m\u001b[1;33m\u001b[0m\u001b[1;33m\u001b[0m\u001b[0m\n\u001b[0;32m    925\u001b[0m             output_padding, self.groups, self.dilation)\n",
      "\u001b[1;31mRuntimeError\u001b[0m: Expected 4-dimensional input for 4-dimensional weight [512, 256, 3, 3], but got 2-dimensional input of size [4, 32] instead"
     ]
    }
   ],
   "source": [
    "print(\"Start training VAE...\")\n",
    "autoencoder.train()\n",
    "\n",
    "for epoch in range(epochs):\n",
    "    overall_loss = 0\n",
    "    for batch_idx, (x, _) in enumerate(train_loader):\n",
    "#         x = x.view(batch_size, x_dim)\n",
    "        x = x.to(DEVICE)\n",
    "\n",
    "        optimizer.zero_grad()\n",
    "\n",
    "        x_hat, mean, log_var = autoencoder(x)\n",
    "        print('x: ', x.shape, '/n')\n",
    "        print('x_hat: ', x_hat.shape, '/n')\n",
    "        loss = loss_function(x, x_hat, mean, log_var)\n",
    "        \n",
    "        overall_loss += loss.item()\n",
    "        \n",
    "        loss.backward()\n",
    "        optimizer.step()\n",
    "        \n",
    "    if epoch % 5 == 0:\n",
    "        print(\"\\tEpoch\", epoch + 1, \"complete!\", \"\\tAverage Loss: \", overall_loss / (batch_idx*batch_size))\n",
    "    \n",
    "print(\"Finish!\")"
   ]
  },
  {
   "cell_type": "markdown",
   "id": "dce88bca",
   "metadata": {},
   "source": [
    "## New representation, example"
   ]
  },
  {
   "cell_type": "code",
   "execution_count": 37,
   "id": "f18cd1c1",
   "metadata": {},
   "outputs": [
    {
     "name": "stdout",
     "output_type": "stream",
     "text": [
      "Input:  tensor([[0., 0., 0., 0., 0., 0., 0., 0., 0., 0., 0., 0., 0., 0., 0., 0., 0., 0.,\n",
      "         0., 0., 0., 3., 2., 2., 2., 2., 0., 0., 0., 0., 0., 1., 4., 2., 3., 1.,\n",
      "         0., 0., 0., 0., 0., 2., 3., 0., 1., 0., 0., 0., 0., 0., 0., 1., 0., 0.,\n",
      "         2., 1., 0., 0., 0., 0., 0., 2., 1., 6., 1., 1., 1., 0., 0., 0., 1., 2.,\n",
      "         2., 0., 3., 2., 1., 0., 0., 0., 0., 0., 0., 2., 0., 0., 0., 0., 0., 0.,\n",
      "         0., 0., 0., 3., 0., 0., 0., 0., 0., 0., 0., 0., 0., 0., 0., 0., 0., 0.,\n",
      "         0., 0., 0., 0., 0., 0., 0., 0., 0., 0., 0., 0., 0., 0., 0., 0., 1., 0.,\n",
      "         0., 0., 0., 0., 0., 3., 1., 1., 1., 0., 0., 0., 0., 0., 0., 0., 2., 1.,\n",
      "         3., 0., 0., 0., 0., 0., 0., 3., 5., 9., 2., 0., 0., 0., 0., 0., 2., 0.,\n",
      "         3., 7., 5., 0., 0., 0., 0., 0., 0., 2., 2., 1., 1., 1., 0., 0., 0., 0.,\n",
      "         0., 0., 0., 3., 1., 0., 0., 0., 0., 0., 0., 0., 0., 0., 0., 0., 0., 0.,\n",
      "         0., 0.],\n",
      "        [0., 0., 0., 0., 0., 0., 0., 0., 0., 0., 0., 0., 1., 0., 0., 0., 0., 0.,\n",
      "         0., 0., 0., 2., 4., 0., 5., 1., 0., 0., 0., 0., 0., 1., 3., 0., 3., 1.,\n",
      "         0., 0., 0., 0., 0., 1., 3., 3., 0., 0., 0., 0., 0., 0., 0., 2., 3., 2.,\n",
      "         1., 0., 0., 0., 0., 0., 0., 0., 0., 5., 1., 3., 1., 0., 0., 0., 2., 3.,\n",
      "         2., 2., 1., 0., 1., 0., 0., 0., 0., 0., 0., 2., 0., 0., 0., 0., 0., 0.,\n",
      "         0., 0., 0., 0., 0., 1., 0., 0., 0., 0., 0., 0., 0., 0., 0., 0., 0., 0.,\n",
      "         0., 0., 0., 0., 0., 0., 0., 0., 0., 0., 0., 0., 0., 1., 0., 1., 2., 1.,\n",
      "         0., 0., 0., 0., 0., 1., 1., 0., 1., 0., 0., 0., 0., 0., 0., 1., 2., 3.,\n",
      "         5., 0., 0., 0., 0., 0., 0., 1., 2., 8., 2., 0., 0., 0., 0., 0., 1., 1.,\n",
      "         4., 7., 0., 1., 1., 0., 0., 0., 0., 2., 1., 5., 1., 1., 2., 0., 0., 0.,\n",
      "         0., 0., 0., 1., 0., 0., 0., 0., 0., 0., 0., 0., 0., 0., 0., 0., 0., 0.,\n",
      "         0., 0.],\n",
      "        [0., 0., 0., 0., 0., 0., 0., 0., 0., 0., 0., 0., 0., 0., 0., 0., 0., 0.,\n",
      "         0., 0., 0., 3., 1., 1., 3., 1., 0., 0., 0., 0., 0., 1., 2., 2., 2., 3.,\n",
      "         0., 0., 0., 0., 0., 0., 5., 3., 1., 0., 0., 0., 0., 0., 0., 2., 2., 1.,\n",
      "         5., 0., 1., 0., 0., 0., 0., 1., 2., 4., 1., 0., 1., 1., 0., 0., 1., 1.,\n",
      "         3., 2., 0., 1., 0., 0., 0., 0., 0., 0., 0., 1., 0., 0., 0., 0., 0., 0.,\n",
      "         0., 0., 0., 0., 1., 1., 0., 0., 0., 0., 0., 0., 0., 0., 0., 0., 0., 0.,\n",
      "         0., 0., 0., 0., 0., 0., 0., 0., 0., 0., 0., 0., 0., 1., 0., 0., 0., 0.,\n",
      "         0., 0., 0., 0., 0., 1., 1., 1., 0., 0., 0., 0., 0., 0., 0., 2., 4., 6.,\n",
      "         2., 0., 0., 0., 0., 0., 0., 2., 2., 7., 2., 0., 0., 0., 0., 0., 0., 1.,\n",
      "         5., 5., 2., 3., 0., 0., 0., 0., 0., 2., 6., 3., 0., 0., 0., 0., 0., 0.,\n",
      "         0., 0., 0., 1., 1., 0., 0., 0., 0., 0., 0., 0., 0., 0., 0., 0., 0., 0.,\n",
      "         0., 0.],\n",
      "        [0., 0., 0., 0., 0., 0., 0., 0., 0., 0., 0., 1., 1., 0., 0., 0., 0., 0.,\n",
      "         0., 0., 0., 0., 0., 0., 2., 0., 0., 0., 0., 0., 0., 0., 1., 3., 3., 0.,\n",
      "         1., 0., 0., 0., 0., 0., 3., 0., 4., 0., 0., 1., 0., 0., 0., 2., 3., 5.,\n",
      "         3., 0., 0., 1., 0., 0., 2., 0., 1., 5., 0., 1., 2., 0., 0., 0., 1., 1.,\n",
      "         1., 2., 0., 2., 2., 0., 0., 0., 0., 0., 0., 2., 3., 0., 0., 0., 0., 0.,\n",
      "         0., 0., 0., 1., 0., 0., 0., 0., 0., 0., 0., 0., 0., 0., 0., 0., 0., 0.,\n",
      "         0., 0., 0., 0., 0., 0., 0., 0., 0., 0., 0., 0., 0., 0., 1., 1., 0., 0.,\n",
      "         0., 0., 0., 0., 0., 1., 4., 1., 0., 2., 0., 0., 0., 0., 0., 2., 3., 4.,\n",
      "         4., 0., 0., 0., 0., 0., 0., 0., 2., 5., 1., 0., 0., 0., 0., 0., 0., 3.,\n",
      "         3., 4., 2., 3., 1., 0., 0., 0., 1., 2., 2., 4., 2., 1., 0., 0., 0., 0.,\n",
      "         0., 0., 0., 1., 0., 0., 0., 0., 0., 0., 0., 0., 0., 0., 0., 0., 0., 0.,\n",
      "         0., 0.]], device='cuda:0') \n",
      "\n",
      "Modelled hidden: \n",
      " mean:  tensor([[ 1.6064, -0.8065,  1.3395,  1.0935, -0.1216, -1.0722, -2.5837,  1.6342,\n",
      "         -0.1762, -2.3866, -2.9605, -0.4884, -0.1799,  1.0088, -1.2494, -0.7845,\n",
      "         -0.1931,  1.6072,  1.8118,  3.4291],\n",
      "        [ 1.4843, -0.7589,  1.3041,  1.1353, -0.0830, -0.9309, -2.5516,  1.7713,\n",
      "         -0.3630, -2.2610, -3.0482, -0.5567, -0.1845,  1.0065, -1.1368, -0.7547,\n",
      "         -0.0884,  1.6347,  1.9154,  3.2603],\n",
      "        [ 1.7089, -0.9468,  1.4160,  1.1277, -0.1437, -1.0064, -2.7244,  1.7036,\n",
      "         -0.2999, -2.3057, -3.2813, -0.6160, -0.1287,  1.1930, -1.3316, -0.7710,\n",
      "          0.0180,  1.5854,  2.0223,  3.4854],\n",
      "        [ 1.7235, -0.8525,  1.2846,  1.1469, -0.1436, -0.9433, -2.7172,  1.7910,\n",
      "         -0.2947, -2.3189, -3.1886, -0.6661, -0.1146,  1.0026, -1.2942, -0.8194,\n",
      "         -0.1476,  1.7609,  2.1244,  3.3935]], device='cuda:0',\n",
      "       grad_fn=<AddmmBackward0>) \n",
      " log variance:  tensor([[-0.7469, -0.1531, -0.1973, -0.2994, -0.0084, -0.6034, -0.6523,  0.0466,\n",
      "          0.0415, -0.9871, -0.8510, -0.2547, -0.8799, -0.7079,  0.0862, -0.2007,\n",
      "         -0.4343, -0.7406, -0.5874, -0.4001],\n",
      "        [-0.8227, -0.1093, -0.2710, -0.2178,  0.1486, -0.5407, -0.6876,  0.0280,\n",
      "         -0.0739, -1.0305, -0.9448, -0.2220, -0.7883, -0.7391,  0.0806, -0.1882,\n",
      "         -0.4893, -0.7704, -0.5173, -0.5260],\n",
      "        [-0.7902, -0.0394, -0.1796, -0.1193,  0.0976, -0.5568, -0.6297, -0.0499,\n",
      "         -0.0387, -1.0170, -0.9980, -0.2220, -0.7890, -0.6613,  0.1019, -0.1810,\n",
      "         -0.4209, -0.7690, -0.4532, -0.5382],\n",
      "        [-0.9534, -0.0739, -0.1574, -0.1187,  0.1423, -0.6504, -0.7315, -0.1441,\n",
      "         -0.0315, -1.0072, -0.9763, -0.2601, -0.8341, -0.6977,  0.1308, -0.1444,\n",
      "         -0.4519, -0.9234, -0.4460, -0.5875]], device='cuda:0',\n",
      "       grad_fn=<AddmmBackward0>) \n",
      " decoded to original: tensor([[1.1713e-06, 5.7309e-07, 1.6531e-05, 4.2244e-06, 1.6603e-06, 2.6066e-06,\n",
      "         1.0359e-06, 2.3159e-06, 3.6017e-06, 1.1595e-04, 5.4148e-08, 3.9833e-01,\n",
      "         4.7185e-01, 1.3384e-01, 1.0741e-01, 2.3893e-05, 4.0182e-06, 6.3634e-05,\n",
      "         8.8705e-08, 2.7133e-05, 3.7824e-07, 1.0000e+00, 1.0000e+00, 9.5252e-01,\n",
      "         1.0000e+00, 1.0000e+00, 6.8923e-06, 1.7279e-06, 9.2653e-07, 6.0081e-09,\n",
      "         3.1135e-06, 7.9474e-01, 1.0000e+00, 1.0000e+00, 1.0000e+00, 9.9999e-01,\n",
      "         2.3091e-01, 6.9435e-06, 1.0061e-06, 6.9451e-06, 1.9753e-06, 7.8880e-01,\n",
      "         1.0000e+00, 1.0000e+00, 1.0000e+00, 2.5112e-01, 6.3483e-06, 3.8967e-01,\n",
      "         4.7659e-05, 4.8745e-06, 1.1031e-04, 1.0000e+00, 1.0000e+00, 1.0000e+00,\n",
      "         1.0000e+00, 2.8587e-01, 1.1279e-01, 1.7137e-01, 6.1927e-06, 5.1763e-05,\n",
      "         8.3138e-01, 8.2316e-01, 1.0000e+00, 1.0000e+00, 1.0000e+00, 1.0000e+00,\n",
      "         8.2000e-01, 5.0791e-01, 1.6966e-06, 2.1698e-05, 1.0000e+00, 1.0000e+00,\n",
      "         1.0000e+00, 1.0000e+00, 9.9997e-01, 1.0000e+00, 9.9644e-01, 9.3886e-06,\n",
      "         1.1448e-06, 1.1283e-06, 2.9476e-06, 1.8543e-06, 1.5793e-01, 1.0000e+00,\n",
      "         6.1816e-01, 1.1411e-01, 4.6246e-07, 3.5469e-06, 7.9034e-06, 4.9990e-09,\n",
      "         1.8348e-05, 1.0039e-05, 2.8380e-06, 5.6722e-01, 7.3197e-01, 1.7833e-01,\n",
      "         8.1066e-07, 2.1313e-05, 4.1216e-05, 1.2441e-07, 2.7282e-05, 1.3155e-06,\n",
      "         3.3561e-07, 3.5628e-06, 7.4375e-07, 3.5704e-07, 1.1773e-06, 2.9115e-06,\n",
      "         4.9292e-05, 7.8750e-06, 1.8108e-07, 3.8499e-01, 9.2137e-02, 1.0943e-07,\n",
      "         1.7083e-05, 3.4462e-06, 1.3068e-05, 2.9990e-06, 2.0416e-04, 5.0404e-06,\n",
      "         2.4182e-05, 3.3941e-01, 8.1215e-01, 2.0177e-01, 9.8714e-01, 7.8201e-01,\n",
      "         5.7047e-06, 6.9320e-06, 1.5558e-07, 2.9784e-05, 1.6742e-07, 1.0000e+00,\n",
      "         1.0000e+00, 7.6104e-01, 1.0000e+00, 3.7691e-01, 1.5702e-06, 1.3735e-05,\n",
      "         1.6619e-05, 1.2867e-04, 3.2183e-06, 9.9960e-01, 1.0000e+00, 1.0000e+00,\n",
      "         1.0000e+00, 1.3997e-01, 3.8656e-05, 1.1892e-01, 1.0892e-05, 7.2498e-07,\n",
      "         3.9245e-05, 1.0000e+00, 1.0000e+00, 1.0000e+00, 1.0000e+00, 3.4615e-06,\n",
      "         3.9735e-06, 4.2102e-01, 1.5266e-07, 1.9849e-04, 3.0638e-01, 7.6850e-01,\n",
      "         1.0000e+00, 1.0000e+00, 1.0000e+00, 1.0000e+00, 4.5522e-01, 1.9815e-06,\n",
      "         9.9931e-06, 2.1644e-05, 4.5394e-01, 1.0000e+00, 1.0000e+00, 1.0000e+00,\n",
      "         7.9533e-01, 8.0808e-01, 1.8651e-01, 2.5862e-06, 1.6322e-06, 1.8347e-06,\n",
      "         7.9079e-05, 7.9827e-08, 2.9161e-06, 1.0000e+00, 3.9282e-01, 2.7488e-01,\n",
      "         2.5021e-06, 6.2351e-08, 1.2304e-05, 1.1078e-05, 1.1736e-04, 5.3526e-05,\n",
      "         3.8269e-06, 2.1952e-05, 4.3017e-05, 8.8748e-07, 7.9945e-06, 7.5974e-06,\n",
      "         4.4322e-09, 1.1842e-05],\n",
      "        [6.0292e-07, 2.7757e-07, 7.4953e-06, 2.6460e-06, 8.2449e-07, 1.2953e-06,\n",
      "         4.7636e-07, 1.1330e-06, 1.8795e-06, 7.9907e-05, 1.9605e-08, 4.2218e-01,\n",
      "         4.5585e-01, 1.3875e-01, 1.0034e-01, 1.1516e-05, 2.0593e-06, 4.5635e-05,\n",
      "         3.9675e-08, 1.7999e-05, 1.3954e-07, 1.0000e+00, 1.0000e+00, 9.5546e-01,\n",
      "         1.0000e+00, 1.0000e+00, 3.6896e-06, 6.4345e-07, 4.4413e-07, 2.1186e-09,\n",
      "         1.5649e-06, 8.2339e-01, 1.0000e+00, 1.0000e+00, 1.0000e+00, 1.0000e+00,\n",
      "         2.0175e-01, 3.8566e-06, 4.4687e-07, 3.1227e-06, 9.5618e-07, 7.8907e-01,\n",
      "         1.0000e+00, 1.0000e+00, 1.0000e+00, 2.4282e-01, 3.0725e-06, 3.9626e-01,\n",
      "         2.9920e-05, 2.0360e-06, 5.7379e-05, 1.0000e+00, 1.0000e+00, 1.0000e+00,\n",
      "         1.0000e+00, 2.8741e-01, 1.1652e-01, 1.2653e-01, 3.4709e-06, 4.0192e-05,\n",
      "         8.4267e-01, 8.4504e-01, 1.0000e+00, 1.0000e+00, 1.0000e+00, 1.0000e+00,\n",
      "         8.2429e-01, 5.2610e-01, 8.3873e-07, 1.1193e-05, 1.0000e+00, 1.0000e+00,\n",
      "         1.0000e+00, 1.0000e+00, 9.9999e-01, 1.0000e+00, 9.9788e-01, 5.9811e-06,\n",
      "         5.2661e-07, 5.1008e-07, 1.8030e-06, 9.0986e-07, 1.4584e-01, 1.0000e+00,\n",
      "         6.2345e-01, 9.7140e-02, 2.3548e-07, 2.0546e-06, 4.5833e-06, 1.4288e-09,\n",
      "         8.5536e-06, 4.7255e-06, 1.5957e-06, 5.6909e-01, 7.8231e-01, 1.4946e-01,\n",
      "         4.3724e-07, 8.0294e-06, 1.7061e-05, 5.8271e-08, 1.5710e-05, 5.3990e-07,\n",
      "         1.7037e-07, 1.4296e-06, 4.6192e-07, 1.3160e-07, 6.3509e-07, 1.5781e-06,\n",
      "         2.7143e-05, 3.8728e-06, 7.7048e-08, 3.9291e-01, 7.8139e-02, 4.3012e-08,\n",
      "         8.2105e-06, 1.9271e-06, 8.5981e-06, 1.3711e-06, 1.1260e-04, 2.6812e-06,\n",
      "         1.3233e-05, 3.3921e-01, 8.0249e-01, 1.7233e-01, 9.9055e-01, 8.2064e-01,\n",
      "         2.6718e-06, 4.3646e-06, 7.5657e-08, 2.2400e-05, 8.1000e-08, 1.0000e+00,\n",
      "         1.0000e+00, 7.5524e-01, 1.0000e+00, 3.5132e-01, 7.3628e-07, 7.7037e-06,\n",
      "         8.6588e-06, 7.5860e-05, 1.3787e-06, 9.9973e-01, 1.0000e+00, 1.0000e+00,\n",
      "         1.0000e+00, 1.2231e-01, 2.0150e-05, 1.0739e-01, 6.7674e-06, 2.8963e-07,\n",
      "         2.0210e-05, 1.0000e+00, 1.0000e+00, 1.0000e+00, 1.0000e+00, 1.4795e-06,\n",
      "         2.0968e-06, 4.7904e-01, 6.1951e-08, 1.1311e-04, 3.7611e-01, 7.8312e-01,\n",
      "         1.0000e+00, 1.0000e+00, 1.0000e+00, 1.0000e+00, 4.4419e-01, 1.0914e-06,\n",
      "         5.9480e-06, 1.1679e-05, 4.6276e-01, 1.0000e+00, 1.0000e+00, 1.0000e+00,\n",
      "         8.0718e-01, 8.1979e-01, 1.6993e-01, 1.2351e-06, 7.3042e-07, 9.0364e-07,\n",
      "         4.6657e-05, 2.6886e-08, 1.3809e-06, 1.0000e+00, 4.3724e-01, 2.8558e-01,\n",
      "         1.2022e-06, 2.9336e-08, 5.3644e-06, 6.3064e-06, 7.9917e-05, 3.4728e-05,\n",
      "         1.8095e-06, 1.0864e-05, 2.5901e-05, 5.2334e-07, 5.2449e-06, 4.4151e-06,\n",
      "         1.4680e-09, 6.5661e-06],\n",
      "        [7.2511e-08, 3.0615e-08, 2.0765e-06, 3.4823e-07, 1.7030e-07, 1.9264e-07,\n",
      "         6.5848e-08, 1.5763e-07, 3.1109e-07, 1.8255e-05, 2.3386e-09, 4.1094e-01,\n",
      "         4.7963e-01, 7.2656e-02, 8.2296e-02, 1.4880e-06, 4.1856e-07, 8.6615e-06,\n",
      "         2.2273e-09, 3.4697e-06, 1.6380e-08, 1.0000e+00, 1.0000e+00, 9.7826e-01,\n",
      "         1.0000e+00, 1.0000e+00, 4.7917e-07, 1.1077e-07, 5.2212e-08, 1.7088e-10,\n",
      "         2.1092e-07, 8.2786e-01, 1.0000e+00, 1.0000e+00, 1.0000e+00, 1.0000e+00,\n",
      "         1.6754e-01, 7.6791e-07, 4.7030e-08, 6.7097e-07, 1.0872e-07, 8.7097e-01,\n",
      "         1.0000e+00, 1.0000e+00, 1.0000e+00, 1.9580e-01, 5.6962e-07, 3.5956e-01,\n",
      "         9.5272e-06, 3.8322e-07, 1.3296e-05, 1.0000e+00, 1.0000e+00, 1.0000e+00,\n",
      "         1.0000e+00, 2.3760e-01, 1.0576e-01, 1.4001e-01, 5.4445e-07, 7.7870e-06,\n",
      "         8.8807e-01, 8.1522e-01, 1.0000e+00, 1.0000e+00, 1.0000e+00, 1.0000e+00,\n",
      "         8.4063e-01, 5.5380e-01, 1.3562e-07, 2.5208e-06, 1.0000e+00, 1.0000e+00,\n",
      "         1.0000e+00, 1.0000e+00, 1.0000e+00, 1.0000e+00, 9.9893e-01, 6.9502e-07,\n",
      "         6.2455e-08, 8.3411e-08, 1.7288e-07, 1.3017e-07, 1.1105e-01, 1.0000e+00,\n",
      "         6.3368e-01, 7.0028e-02, 3.2173e-08, 2.9674e-07, 7.3759e-07, 1.0700e-10,\n",
      "         2.0489e-06, 9.5757e-07, 1.8712e-07, 6.3425e-01, 8.3686e-01, 1.1833e-01,\n",
      "         5.9780e-08, 2.3764e-06, 5.2593e-06, 4.2161e-09, 3.2601e-06, 7.8279e-08,\n",
      "         1.9289e-08, 2.4531e-07, 5.2861e-08, 1.6006e-08, 8.4696e-08, 2.3843e-07,\n",
      "         5.8765e-06, 9.2775e-07, 6.1637e-09, 3.2238e-01, 5.6652e-02, 5.8014e-09,\n",
      "         1.3011e-06, 2.4681e-07, 1.3147e-06, 3.1869e-07, 3.5990e-05, 3.7800e-07,\n",
      "         3.3373e-06, 4.0040e-01, 8.4242e-01, 1.5121e-01, 9.9539e-01, 7.9648e-01,\n",
      "         4.2440e-07, 8.0178e-07, 6.9759e-09, 6.4463e-06, 6.7991e-09, 1.0000e+00,\n",
      "         1.0000e+00, 7.7294e-01, 1.0000e+00, 3.1618e-01, 1.1787e-07, 1.6620e-06,\n",
      "         1.7356e-06, 2.3752e-05, 2.7102e-07, 9.9989e-01, 1.0000e+00, 1.0000e+00,\n",
      "         1.0000e+00, 1.1048e-01, 5.8376e-06, 6.5669e-02, 1.4111e-06, 4.4096e-08,\n",
      "         6.0665e-06, 1.0000e+00, 1.0000e+00, 1.0000e+00, 1.0000e+00, 2.7009e-07,\n",
      "         2.6768e-07, 4.0667e-01, 5.6503e-09, 4.0427e-05, 3.4119e-01, 8.1904e-01,\n",
      "         1.0000e+00, 1.0000e+00, 1.0000e+00, 1.0000e+00, 3.9926e-01, 1.6917e-07,\n",
      "         1.1067e-06, 2.8834e-06, 5.0021e-01, 1.0000e+00, 1.0000e+00, 1.0000e+00,\n",
      "         8.8910e-01, 8.2137e-01, 1.1831e-01, 1.8379e-07, 7.2739e-08, 1.3305e-07,\n",
      "         1.2468e-05, 2.8028e-09, 2.0458e-07, 1.0000e+00, 3.6869e-01, 2.0791e-01,\n",
      "         2.5828e-07, 2.6421e-09, 1.7729e-06, 1.2475e-06, 3.3607e-05, 6.1568e-06,\n",
      "         3.4737e-07, 2.4351e-06, 5.7842e-06, 6.8727e-08, 5.5708e-07, 8.3550e-07,\n",
      "         8.3864e-11, 1.0045e-06],\n",
      "        [6.9446e-07, 2.7910e-07, 9.0110e-06, 2.7941e-06, 1.0861e-06, 1.2284e-06,\n",
      "         5.2389e-07, 1.4285e-06, 2.0067e-06, 8.4861e-05, 2.7658e-08, 3.8954e-01,\n",
      "         4.6500e-01, 1.2513e-01, 1.0348e-01, 1.2540e-05, 2.3857e-06, 4.1893e-05,\n",
      "         4.6686e-08, 1.9787e-05, 1.3432e-07, 1.0000e+00, 1.0000e+00, 9.5613e-01,\n",
      "         1.0000e+00, 1.0000e+00, 3.6938e-06, 7.1617e-07, 4.9258e-07, 3.1494e-09,\n",
      "         1.7499e-06, 8.2494e-01, 1.0000e+00, 1.0000e+00, 1.0000e+00, 1.0000e+00,\n",
      "         2.1054e-01, 4.4867e-06, 4.1494e-07, 3.3807e-06, 1.1637e-06, 7.9695e-01,\n",
      "         1.0000e+00, 1.0000e+00, 1.0000e+00, 2.5036e-01, 3.4725e-06, 3.6271e-01,\n",
      "         3.5948e-05, 2.3311e-06, 6.3273e-05, 1.0000e+00, 1.0000e+00, 1.0000e+00,\n",
      "         1.0000e+00, 3.0972e-01, 1.2057e-01, 1.5158e-01, 3.7291e-06, 3.8232e-05,\n",
      "         8.2541e-01, 8.1600e-01, 1.0000e+00, 1.0000e+00, 1.0000e+00, 1.0000e+00,\n",
      "         8.3590e-01, 5.2916e-01, 1.1192e-06, 1.2545e-05, 1.0000e+00, 1.0000e+00,\n",
      "         1.0000e+00, 1.0000e+00, 9.9998e-01, 1.0000e+00, 9.9761e-01, 6.1977e-06,\n",
      "         5.5861e-07, 7.0480e-07, 1.8539e-06, 9.3604e-07, 1.4782e-01, 1.0000e+00,\n",
      "         6.2705e-01, 1.0310e-01, 2.8808e-07, 2.4258e-06, 4.6458e-06, 1.7657e-09,\n",
      "         1.1300e-05, 5.6264e-06, 1.8547e-06, 5.4111e-01, 7.7886e-01, 1.4986e-01,\n",
      "         4.9215e-07, 1.1850e-05, 2.1590e-05, 6.4651e-08, 2.0027e-05, 6.8330e-07,\n",
      "         1.7046e-07, 1.9766e-06, 5.4970e-07, 1.7134e-07, 7.3006e-07, 2.0443e-06,\n",
      "         3.0805e-05, 4.7731e-06, 8.4745e-08, 3.8882e-01, 9.3712e-02, 5.4297e-08,\n",
      "         9.2587e-06, 1.8022e-06, 8.9407e-06, 1.4082e-06, 1.3083e-04, 3.0657e-06,\n",
      "         1.8806e-05, 3.5590e-01, 8.1632e-01, 1.6467e-01, 9.9047e-01, 8.2053e-01,\n",
      "         3.0042e-06, 4.3506e-06, 9.3229e-08, 2.2467e-05, 9.4015e-08, 1.0000e+00,\n",
      "         1.0000e+00, 7.6172e-01, 1.0000e+00, 3.6922e-01, 8.2559e-07, 9.5167e-06,\n",
      "         9.9932e-06, 9.0797e-05, 1.8848e-06, 9.9967e-01, 1.0000e+00, 1.0000e+00,\n",
      "         1.0000e+00, 1.3550e-01, 2.5744e-05, 1.2166e-01, 8.7400e-06, 3.1891e-07,\n",
      "         2.3898e-05, 1.0000e+00, 1.0000e+00, 1.0000e+00, 1.0000e+00, 1.5414e-06,\n",
      "         2.4431e-06, 4.5316e-01, 7.5123e-08, 1.4384e-04, 3.4037e-01, 8.2081e-01,\n",
      "         1.0000e+00, 1.0000e+00, 1.0000e+00, 1.0000e+00, 4.1269e-01, 1.1692e-06,\n",
      "         8.4035e-06, 1.3653e-05, 4.4174e-01, 1.0000e+00, 1.0000e+00, 1.0000e+00,\n",
      "         7.9566e-01, 8.2447e-01, 1.5121e-01, 1.9974e-06, 8.2414e-07, 1.0764e-06,\n",
      "         5.0378e-05, 3.1859e-08, 1.6012e-06, 1.0000e+00, 4.3650e-01, 2.7013e-01,\n",
      "         1.4280e-06, 3.3103e-08, 7.1273e-06, 6.7131e-06, 9.6503e-05, 3.4730e-05,\n",
      "         2.3637e-06, 1.3893e-05, 2.4945e-05, 6.5086e-07, 5.4513e-06, 5.3448e-06,\n",
      "         1.9439e-09, 8.0065e-06]], device='cuda:0', grad_fn=<SigmoidBackward0>)\n"
     ]
    }
   ],
   "source": [
    "x, y = next(iter(train_loader))\n",
    "x = x.view(batch_size, x_dim)\n",
    "x = x.to(DEVICE)\n",
    "print('Input: ', x, '\\n')\n",
    "x_hat, mean, log_var = autoencoder(x)\n",
    "print('Modelled hidden: \\n mean: ', mean, '\\n log variance: ', log_var, '\\n decoded to original:', x_hat)"
   ]
  },
  {
   "cell_type": "code",
   "execution_count": 38,
   "id": "6911b256",
   "metadata": {},
   "outputs": [
    {
     "data": {
      "text/plain": [
       "torch.Size([4, 20])"
      ]
     },
     "execution_count": 38,
     "metadata": {},
     "output_type": "execute_result"
    }
   ],
   "source": [
    "mean.shape"
   ]
  },
  {
   "cell_type": "markdown",
   "id": "381f7bd8",
   "metadata": {},
   "source": [
    "## Network"
   ]
  },
  {
   "cell_type": "markdown",
   "id": "45145767",
   "metadata": {},
   "source": [
    "#### Amend the representation"
   ]
  },
  {
   "cell_type": "code",
   "execution_count": 39,
   "id": "cd320768",
   "metadata": {},
   "outputs": [],
   "source": [
    "demand_list = [x.view(1, x_dim).to(DEVICE) for x in demand_list_tensors]"
   ]
  },
  {
   "cell_type": "code",
   "execution_count": 40,
   "id": "0a60fe48",
   "metadata": {},
   "outputs": [],
   "source": [
    "new_representation = [torch.cat(autoencoder.Encoder(x.view(1, x_dim).to(DEVICE))).detach() for x in demand_list_tensors]"
   ]
  },
  {
   "cell_type": "code",
   "execution_count": 41,
   "id": "d101565a",
   "metadata": {},
   "outputs": [
    {
     "data": {
      "text/plain": [
       "torch.Size([2, 20])"
      ]
     },
     "execution_count": 41,
     "metadata": {},
     "output_type": "execute_result"
    }
   ],
   "source": [
    "new_representation[0].shape"
   ]
  },
  {
   "cell_type": "code",
   "execution_count": 42,
   "id": "2fae2b69",
   "metadata": {},
   "outputs": [],
   "source": [
    "new_dataset = utils.WholeDataset(new_representation, results_list_tensors)\n",
    "train_size = int(0.8 * len(whole_dataset))\n",
    "test_size = len(whole_dataset) - train_size\n",
    "train_dataset, test_dataset = torch.utils.data.random_split(new_dataset, [train_size, test_size])"
   ]
  },
  {
   "cell_type": "code",
   "execution_count": 43,
   "id": "1c881d8e",
   "metadata": {},
   "outputs": [],
   "source": [
    "torch.save(train_dataset, 'train_dataset_encoded.pt')\n",
    "torch.save(test_dataset, 'test_dataset_encoded.pt')"
   ]
  },
  {
   "cell_type": "markdown",
   "id": "551dd8e9",
   "metadata": {},
   "source": [
    "### Network"
   ]
  },
  {
   "cell_type": "markdown",
   "id": "a81f698d",
   "metadata": {},
   "source": [
    "#### Network"
   ]
  },
  {
   "cell_type": "code",
   "execution_count": 44,
   "id": "f1a0050b",
   "metadata": {},
   "outputs": [],
   "source": [
    "class Net(nn.Module):\n",
    "    def __init__(self, padding=0):\n",
    "        super().__init__()\n",
    "        self.padding = padding\n",
    "        self.conv1 = nn.Conv1d(2, 8, 4, padding=self.padding, stride=2)\n",
    "        self.conv2 = nn.Conv1d(8, 32, 3, padding=self.padding, stride=1)\n",
    "        self.conv1_drop = nn.Dropout2d()\n",
    "        self.conv2_drop = nn.Dropout2d()\n",
    "        self.fc1 = nn.Linear(224, 128)\n",
    "        self.fc2 = nn.Linear(128, 16)\n",
    "        self.fc3 = nn.Linear(16, 1)\n",
    "\n",
    "    def forward(self, x):\n",
    "        x = F.relu(self.conv1_drop(self.conv1(x)))\n",
    "        x = F.relu(self.conv2_drop(self.conv2(x)))\n",
    "        x = torch.flatten(x, 1)\n",
    "        x = F.relu(self.fc1(x))\n",
    "        x = F.relu(self.fc2(x))\n",
    "        x = self.fc3(x)\n",
    "        return x"
   ]
  },
  {
   "cell_type": "markdown",
   "id": "0a4fa7c6",
   "metadata": {},
   "source": [
    "#### Parameters"
   ]
  },
  {
   "cell_type": "code",
   "execution_count": 45,
   "id": "f533660c",
   "metadata": {},
   "outputs": [
    {
     "data": {
      "text/plain": [
       "device(type='cuda')"
      ]
     },
     "execution_count": 45,
     "metadata": {},
     "output_type": "execute_result"
    }
   ],
   "source": [
    "cuda = True\n",
    "DEVICE = torch.device(\"cuda\" if cuda else \"cpu\")\n",
    "\n",
    "batch_size = 8\n",
    "\n",
    "lr = 1e-3\n",
    "epochs = 30\n",
    "DEVICE"
   ]
  },
  {
   "cell_type": "markdown",
   "id": "d4fb81ac",
   "metadata": {},
   "source": [
    "#### Preparation"
   ]
  },
  {
   "cell_type": "code",
   "execution_count": 46,
   "id": "1ed41b2b",
   "metadata": {},
   "outputs": [],
   "source": [
    "net = Net().cuda()\n",
    "\n",
    "train_loader = DataLoader(train_dataset, batch_size=batch_size, shuffle=True)\n",
    "test_loader = DataLoader(test_dataset, batch_size=batch_size, shuffle=True)\n",
    "\n",
    "criterion = nn.MSELoss()\n",
    "optimizer = torch.optim.Adam(net.parameters(), lr)"
   ]
  },
  {
   "cell_type": "code",
   "execution_count": 47,
   "id": "5a68ce7b",
   "metadata": {},
   "outputs": [
    {
     "name": "stdout",
     "output_type": "stream",
     "text": [
      " ####### Epoch: 9 #######\n",
      "Train loss: 0.0055\n",
      "Test loss: 0.0318\n",
      "\n",
      "\n",
      " ####### Epoch: 19 #######\n",
      "Train loss: 0.0058\n",
      "Test loss: 0.0122\n",
      "\n",
      "\n",
      " ####### Epoch: 29 #######\n",
      "Train loss: 0.0054\n",
      "Test loss: 0.0100\n",
      "\n",
      "\n"
     ]
    },
    {
     "data": {
      "image/png": "[encoded data removed]",
      "text/plain": [
       "<Figure size 432x288 with 1 Axes>"
      ]
     },
     "metadata": {
      "needs_background": "light"
     },
     "output_type": "display_data"
    }
   ],
   "source": [
    "utils.train_net(net, criterion, optimizer, train_loader, test_loader, epochs, use_gpu=True)"
   ]
  }
 ],
 "metadata": {
  "kernelspec": {
   "display_name": "Python 3 (ipykernel)",
   "language": "python",
   "name": "python3"
  },
  "language_info": {
   "codemirror_mode": {
    "name": "ipython",
    "version": 3
   },
   "file_extension": ".py",
   "mimetype": "text/x-python",
   "name": "python",
   "nbconvert_exporter": "python",
   "pygments_lexer": "ipython3",
   "version": "3.9.7"
  }
 },
 "nbformat": 4,
 "nbformat_minor": 5
}
