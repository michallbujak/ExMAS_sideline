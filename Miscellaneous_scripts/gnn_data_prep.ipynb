{
 "cells": [
  {
   "cell_type": "code",
   "execution_count": 1,
   "id": "d02af0b0",
   "metadata": {},
   "outputs": [],
   "source": [
    "import pickle\n",
    "import networkx as nx"
   ]
  },
  {
   "cell_type": "code",
   "execution_count": 2,
   "id": "eb0901e1",
   "metadata": {},
   "outputs": [],
   "source": [
    "with open(r\"C:\\Users\\szmat\\Documents\\GitHub\\ExMAS_sideline\\Topology\\data\\results\\25-11-22_maxi_n\\all_graphs_list_25-11-22.obj\", 'rb') as file:\n",
    "    e = pickle.load(file)[0]"
   ]
  },
  {
   "cell_type": "code",
   "execution_count": 4,
   "id": "7e7cf9bb",
   "metadata": {},
   "outputs": [],
   "source": [
    "shareability_graph = e[\"pairs_shareability\"]"
   ]
  },
  {
   "cell_type": "code",
   "execution_count": 27,
   "id": "792d8862",
   "metadata": {},
   "outputs": [],
   "source": [
    "for n1, n2, d in shareability_graph.edges(data=True):\n",
    "    d.pop('u_paxes', None)"
   ]
  },
  {
   "cell_type": "code",
   "execution_count": 29,
   "id": "1ad379bf",
   "metadata": {},
   "outputs": [],
   "source": [
    "for n1, n2, d in shareability_graph.edges(data=True):\n",
    "    d.clear()"
   ]
  },
  {
   "cell_type": "code",
   "execution_count": 32,
   "id": "cfd5a522",
   "metadata": {},
   "outputs": [],
   "source": [
    "nx.write_graphml_lxml(shareability_graph, r\"C:\\Users\\szmat\\Documents\\GitHub\\ExMAS_sideline\\Miscellaneous_scripts\\data\\shareability_graph_198.graphml\")"
   ]
  }
 ],
 "metadata": {
  "kernelspec": {
   "display_name": "Python 3 (ipykernel)",
   "language": "python",
   "name": "python3"
  },
  "language_info": {
   "codemirror_mode": {
    "name": "ipython",
    "version": 3
   },
   "file_extension": ".py",
   "mimetype": "text/x-python",
   "name": "python",
   "nbconvert_exporter": "python",
   "pygments_lexer": "ipython3",
   "version": "3.9.7"
  }
 },
 "nbformat": 4,
 "nbformat_minor": 5
}
