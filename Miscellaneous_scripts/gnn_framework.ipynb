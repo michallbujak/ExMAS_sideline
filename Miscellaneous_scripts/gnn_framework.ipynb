{
 "cells": [
  {
   "cell_type": "code",
   "execution_count": 1,
   "id": "0bf050b7",
   "metadata": {},
   "outputs": [],
   "source": [
    "import networkx as nx\n",
    "import pandas as pd\n",
    "import pulp\n",
    "import numpy as np\n",
    "import platform"
   ]
  },
  {
   "cell_type": "code",
   "execution_count": 2,
   "id": "66c97ef5",
   "metadata": {},
   "outputs": [],
   "source": [
    "G = nx.read_graphml(\"shareability_graph.graphml\")"
   ]
  },
  {
   "cell_type": "code",
   "execution_count": 3,
   "id": "65d8e6df",
   "metadata": {},
   "outputs": [
    {
     "name": "stdout",
     "output_type": "stream",
     "text": [
      "no. nodes: 198 \n",
      " no. edges: 748\n"
     ]
    }
   ],
   "source": [
    "print(f\"no. nodes: {len(list(G.nodes))} \\n no. edges: {len(list(G.edges))}\")"
   ]
  },
  {
   "cell_type": "markdown",
   "id": "1a5772c7",
   "metadata": {},
   "source": [
    "#### usuwamy wszystkie izolowane node'y"
   ]
  },
  {
   "cell_type": "code",
   "execution_count": 4,
   "id": "6443add5",
   "metadata": {},
   "outputs": [],
   "source": [
    "nodes_to_keep = [k for k, v in dict(G.degree).items() if v!=0]"
   ]
  },
  {
   "cell_type": "code",
   "execution_count": 5,
   "id": "4ed50232",
   "metadata": {},
   "outputs": [],
   "source": [
    "g = G.subgraph(nodes_to_keep)"
   ]
  },
  {
   "cell_type": "code",
   "execution_count": 6,
   "id": "f1d3f7d2",
   "metadata": {},
   "outputs": [
    {
     "name": "stdout",
     "output_type": "stream",
     "text": [
      "no. nodes: 181 \n",
      " no. edges: 748\n"
     ]
    }
   ],
   "source": [
    "print(f\"no. nodes: {len(list(g.nodes))} \\n no. edges: {len(list(g.edges))}\")"
   ]
  },
  {
   "cell_type": "markdown",
   "id": "b1e1b350",
   "metadata": {},
   "source": [
    "#### wczytanie danych"
   ]
  },
  {
   "cell_type": "code",
   "execution_count": 7,
   "id": "8cc3fe29",
   "metadata": {},
   "outputs": [],
   "source": [
    "rides = pd.read_csv(\"rides.csv\", index_col=0)\n",
    "requests = pd.read_csv(\"requests.csv\", index_col=0)"
   ]
  },
  {
   "cell_type": "code",
   "execution_count": 8,
   "id": "99c6d45a",
   "metadata": {},
   "outputs": [],
   "source": [
    "dropped_nodes = [int(k) for k, v in dict(G.degree).items() if v==0]"
   ]
  },
  {
   "cell_type": "code",
   "execution_count": 9,
   "id": "64431b3d",
   "metadata": {},
   "outputs": [
    {
     "name": "stdout",
     "output_type": "stream",
     "text": [
      "181\n"
     ]
    }
   ],
   "source": [
    "rides = rides.drop(index=dropped_nodes)\n",
    "requests = requests.drop(index=dropped_nodes)\n",
    "\n",
    "print(len(requests))"
   ]
  },
  {
   "cell_type": "code",
   "execution_count": 10,
   "id": "53ec6254",
   "metadata": {},
   "outputs": [],
   "source": [
    "def foo(s):\n",
    "    return [int(t) for t in s.replace('[', '').replace(']', '').split(',')]\n",
    "\n",
    "\n",
    "rides['indexes'] = rides.apply(lambda x: foo(x['indexes']), axis=1)"
   ]
  },
  {
   "cell_type": "code",
   "execution_count": 11,
   "id": "cb765d94",
   "metadata": {},
   "outputs": [
    {
     "data": {
      "text/plain": [
       "110053"
      ]
     },
     "execution_count": 11,
     "metadata": {},
     "output_type": "execute_result"
    }
   ],
   "source": [
    "result_no_pooling = sum(requests['ttrav'])\n",
    "result_no_pooling"
   ]
  },
  {
   "cell_type": "code",
   "execution_count": 12,
   "id": "2a834e5d",
   "metadata": {},
   "outputs": [],
   "source": [
    "def match(im, r, share_discount=0.3, matching_obj=\"u_veh\", plot=False, make_assertion=True, logger=None):\n",
    "    \"\"\"\n",
    "    main call of bipartite matching on a graph\n",
    "    :param im: possible rides\n",
    "    :param r: requests\n",
    "    :param params: parameter (including objective function)\n",
    "    :param plot:\n",
    "    :param make_assertion: test the results at the end\n",
    "    :return: rides, secelcted rides, reuests\n",
    "    \"\"\"\n",
    "    request_indexes = dict()\n",
    "    request_indexes_inv = dict()\n",
    "    for i, index in enumerate(r.index.values):\n",
    "        request_indexes[index] = i\n",
    "        request_indexes_inv[i] = index\n",
    "\n",
    "    im_indexes = dict()\n",
    "    im_indexes_inv = dict()\n",
    "    for i, index in enumerate(im.index.values):\n",
    "        im_indexes[index] = i\n",
    "        im_indexes_inv[i] = index\n",
    "\n",
    "    im['PassHourTrav_ns'] = im.apply(lambda x: sum([r.loc[_].ttrav for _ in x.indexes]), axis=1)\n",
    "\n",
    "    r = r.reset_index()\n",
    "\n",
    "    nR = r.shape[0]\n",
    "\n",
    "    def add_binary_row(r):\n",
    "        ret = np.zeros(nR)\n",
    "        for i in r.indexes:\n",
    "            ret[request_indexes[i]] = 1\n",
    "        return ret\n",
    "\n",
    "    im['row'] = im.apply(add_binary_row, axis=1)  # row to be used as constrain in optimization\n",
    "    m = np.vstack(im['row'].values).T  # creates a numpy array for the constrains\n",
    "\n",
    "    im['index'] = im.index.copy()\n",
    "\n",
    "    im = im.reset_index(drop=True)\n",
    "\n",
    "    # optimization\n",
    "    prob = pulp.LpProblem(\"Matching problem\", pulp.LpMinimize)  # problem\n",
    "\n",
    "    variables = pulp.LpVariable.dicts(\"r\", (i for i in im.index), cat='Binary')  # decision variables\n",
    "\n",
    "    cost_col = matching_obj\n",
    "    if cost_col == 'degree':\n",
    "        costs = im.indexes.apply(lambda x: -(10 ** len(x)))\n",
    "    elif cost_col == 'u_pax':\n",
    "        costs = im[cost_col]  # set the costs\n",
    "    else:\n",
    "        costs = im[cost_col]  # set the costs\n",
    "\n",
    "    prob += pulp.lpSum([variables[i] * costs[i] for i in variables]), 'ObjectiveFun'  # ffef\n",
    "\n",
    "    j = 0  # adding constrains\n",
    "    for imr in m:\n",
    "        j += 1\n",
    "        prob += pulp.lpSum([imr[i] * variables[i] for i in variables if imr[i] > 0]) == 1, 'c' + str(j)\n",
    "\n",
    "    solver = pulp.get_solver(solver_for_pulp())\n",
    "    solver.msg = False\n",
    "    prob.solve(solver)\n",
    "\n",
    "    assert pulp.value(prob.objective) <= sum(costs[:nR]) + 2  # we did not go above original\n",
    "\n",
    "    locs = dict()\n",
    "    for variable in prob.variables():\n",
    "        i = int(variable.name.split(\"_\")[1])\n",
    "\n",
    "        locs[im_indexes_inv[i]] = (int(variable.varValue))\n",
    "\n",
    "    return locs\n",
    "\n",
    "\n",
    "def solver_for_pulp():\n",
    "    system = platform.system()\n",
    "    if system == \"Windows\":\n",
    "        return \"GLPK_CMD\"\n",
    "    else:\n",
    "        return \"PULP_CBC_CMD\""
   ]
  },
  {
   "cell_type": "code",
   "execution_count": 13,
   "id": "fb6b088a",
   "metadata": {},
   "outputs": [],
   "source": [
    "def calculate_results(rides, requests):\n",
    "    selected = match(rides, requests)\n",
    "    fin = rides.loc[rides['selected'] == 1]\n",
    "    return sum(fin[\"PassHourTrav_ns\"]) - sum(fin[\"u_veh\"])"
   ]
  },
  {
   "cell_type": "code",
   "execution_count": 14,
   "id": "93ee09c8",
   "metadata": {},
   "outputs": [
    {
     "name": "stderr",
     "output_type": "stream",
     "text": [
      "C:\\Users\\szmat\\.conda\\envs\\ox\\lib\\site-packages\\pulp\\pulp.py:1313: UserWarning: Spaces are not permitted in the name. Converted to '_'\n",
      "  warnings.warn(\"Spaces are not permitted in the name. Converted to '_'\")\n"
     ]
    },
    {
     "data": {
      "text/plain": [
       "38351"
      ]
     },
     "execution_count": 14,
     "metadata": {},
     "output_type": "execute_result"
    }
   ],
   "source": [
    "base_res = calculate_results(rides, requests)\n",
    "base_res"
   ]
  },
  {
   "cell_type": "code",
   "execution_count": 15,
   "id": "7f6822e9",
   "metadata": {},
   "outputs": [],
   "source": [
    "def neg_diff_from_base_res(new_res, base_res):\n",
    "    return new_res - base_res"
   ]
  },
  {
   "cell_type": "markdown",
   "id": "6cdcd141",
   "metadata": {},
   "source": [
    "### Teraz przykładowy podział grafu"
   ]
  },
  {
   "cell_type": "code",
   "execution_count": 16,
   "id": "008eb0f5",
   "metadata": {},
   "outputs": [],
   "source": [
    "g_org = g.copy()"
   ]
  },
  {
   "cell_type": "code",
   "execution_count": null,
   "id": "5e01e31e",
   "metadata": {},
   "outputs": [],
   "source": [
    "g = g_org.copy()"
   ]
  },
  {
   "cell_type": "code",
   "execution_count": 17,
   "id": "7ee2f3f3",
   "metadata": {},
   "outputs": [
    {
     "data": {
      "text/plain": [
       "False"
      ]
     },
     "execution_count": 17,
     "metadata": {},
     "output_type": "execute_result"
    }
   ],
   "source": [
    "g = nx.Graph(g)\n",
    "nx.is_frozen(g)"
   ]
  },
  {
   "cell_type": "code",
   "execution_count": 18,
   "id": "4d975156",
   "metadata": {},
   "outputs": [
    {
     "data": {
      "text/plain": [
       "748"
      ]
     },
     "execution_count": 18,
     "metadata": {},
     "output_type": "execute_result"
    }
   ],
   "source": [
    "len(g.edges)"
   ]
  },
  {
   "cell_type": "markdown",
   "id": "18825295",
   "metadata": {},
   "source": [
    "podział na zbiory"
   ]
  },
  {
   "cell_type": "code",
   "execution_count": 19,
   "id": "be45fd08",
   "metadata": {},
   "outputs": [],
   "source": [
    "div = nx.community.louvain_communities(g)"
   ]
  },
  {
   "cell_type": "markdown",
   "id": "2ba46e70",
   "metadata": {},
   "source": [
    "usuniecie krawedzi"
   ]
  },
  {
   "cell_type": "code",
   "execution_count": 20,
   "id": "6983d58b",
   "metadata": {},
   "outputs": [],
   "source": [
    "edge_list = list(g_org.edges)\n",
    "\n",
    "for edge in edge_list:\n",
    "    flag = True\n",
    "    for com in div:\n",
    "        if edge[0] in com and edge[1] in com:\n",
    "            flag = False\n",
    "    if flag:\n",
    "        g.remove_edge(edge[0], edge[1])"
   ]
  },
  {
   "cell_type": "code",
   "execution_count": 21,
   "id": "fcc8b78a",
   "metadata": {},
   "outputs": [
    {
     "data": {
      "text/plain": [
       "524"
      ]
     },
     "execution_count": 21,
     "metadata": {},
     "output_type": "execute_result"
    }
   ],
   "source": [
    "len(g.edges)"
   ]
  },
  {
   "cell_type": "markdown",
   "id": "8eed1cee",
   "metadata": {},
   "source": [
    "usuniecie ride'ow"
   ]
  },
  {
   "cell_type": "code",
   "execution_count": 22,
   "id": "d7bfcd39",
   "metadata": {},
   "outputs": [],
   "source": [
    "rides_org = rides.copy()"
   ]
  },
  {
   "cell_type": "code",
   "execution_count": 23,
   "id": "f898a0f2",
   "metadata": {},
   "outputs": [
    {
     "data": {
      "text/plain": [
       "1729"
      ]
     },
     "execution_count": 23,
     "metadata": {},
     "output_type": "execute_result"
    }
   ],
   "source": [
    "len(rides_org)"
   ]
  },
  {
   "cell_type": "code",
   "execution_count": 24,
   "id": "84ce9f1d",
   "metadata": {},
   "outputs": [],
   "source": [
    "to_drop = []\n",
    "\n",
    "for num, r in rides.iterrows():\n",
    "    flag = True\n",
    "    for com in div:\n",
    "        if all([str(t) in com for t in r['indexes']]):\n",
    "            flag = False\n",
    "    if flag:\n",
    "        to_drop.append(num)\n",
    "\n",
    "rides = rides.drop(index=to_drop)"
   ]
  },
  {
   "cell_type": "code",
   "execution_count": 25,
   "id": "dafe3be7",
   "metadata": {},
   "outputs": [
    {
     "data": {
      "text/plain": [
       "1190"
      ]
     },
     "execution_count": 25,
     "metadata": {},
     "output_type": "execute_result"
    }
   ],
   "source": [
    "len(rides)"
   ]
  },
  {
   "cell_type": "code",
   "execution_count": 26,
   "id": "02574e41",
   "metadata": {},
   "outputs": [
    {
     "name": "stderr",
     "output_type": "stream",
     "text": [
      "C:\\Users\\szmat\\.conda\\envs\\ox\\lib\\site-packages\\pulp\\pulp.py:1313: UserWarning: Spaces are not permitted in the name. Converted to '_'\n",
      "  warnings.warn(\"Spaces are not permitted in the name. Converted to '_'\")\n"
     ]
    },
    {
     "data": {
      "text/plain": [
       "23817"
      ]
     },
     "execution_count": 26,
     "metadata": {},
     "output_type": "execute_result"
    }
   ],
   "source": [
    "calculate_results(rides, requests)"
   ]
  },
  {
   "cell_type": "markdown",
   "id": "40a6b412",
   "metadata": {},
   "source": [
    "funkcja do maksymalizacji:"
   ]
  },
  {
   "cell_type": "code",
   "execution_count": 27,
   "id": "0710b2ec",
   "metadata": {},
   "outputs": [
    {
     "name": "stderr",
     "output_type": "stream",
     "text": [
      "C:\\Users\\szmat\\.conda\\envs\\ox\\lib\\site-packages\\pulp\\pulp.py:1313: UserWarning: Spaces are not permitted in the name. Converted to '_'\n",
      "  warnings.warn(\"Spaces are not permitted in the name. Converted to '_'\")\n"
     ]
    },
    {
     "data": {
      "text/plain": [
       "-14534"
      ]
     },
     "execution_count": 27,
     "metadata": {},
     "output_type": "execute_result"
    }
   ],
   "source": [
    "neg_diff_from_base_res(calculate_results(rides, requests), base_res)"
   ]
  },
  {
   "cell_type": "code",
   "execution_count": null,
   "id": "e306f2b5",
   "metadata": {},
   "outputs": [],
   "source": []
  }
 ],
 "metadata": {
  "kernelspec": {
   "display_name": "Python 3 (ipykernel)",
   "language": "python",
   "name": "python3"
  },
  "language_info": {
   "codemirror_mode": {
    "name": "ipython",
    "version": 3
   },
   "file_extension": ".py",
   "mimetype": "text/x-python",
   "name": "python",
   "nbconvert_exporter": "python",
   "pygments_lexer": "ipython3",
   "version": "3.9.7"
  }
 },
 "nbformat": 4,
 "nbformat_minor": 5
}
