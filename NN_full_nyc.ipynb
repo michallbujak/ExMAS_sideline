{
 "cells": [
  {
   "cell_type": "code",
   "execution_count": 1,
   "id": "b076c780",
   "metadata": {},
   "outputs": [],
   "source": [
    "import torch\n",
    "import torch.nn as nn\n",
    "import seaborn as sns\n",
    "import torch.nn.functional as F\n",
    "from torch.utils.data import  DataLoader\n",
    "import numpy as np\n",
    "import pickle"
   ]
  },
  {
   "cell_type": "markdown",
   "id": "5c216ee5",
   "metadata": {},
   "source": [
    "## Data alteration"
   ]
  },
  {
   "cell_type": "code",
   "execution_count": 2,
   "id": "5a39f478",
   "metadata": {},
   "outputs": [
    {
     "data": {
      "text/html": [
       "<div>\n",
       "<style scoped>\n",
       "    .dataframe tbody tr th:only-of-type {\n",
       "        vertical-align: middle;\n",
       "    }\n",
       "\n",
       "    .dataframe tbody tr th {\n",
       "        vertical-align: top;\n",
       "    }\n",
       "\n",
       "    .dataframe thead th {\n",
       "        text-align: right;\n",
       "    }\n",
       "</style>\n",
       "<table border=\"1\" class=\"dataframe\">\n",
       "  <thead>\n",
       "    <tr style=\"text-align: right;\">\n",
       "      <th></th>\n",
       "      <th>x_org</th>\n",
       "      <th>y_org</th>\n",
       "      <th>x_dest</th>\n",
       "      <th>y_dest</th>\n",
       "      <th>t</th>\n",
       "    </tr>\n",
       "  </thead>\n",
       "  <tbody>\n",
       "    <tr>\n",
       "      <th>0</th>\n",
       "      <td>-73.981942</td>\n",
       "      <td>40.719462</td>\n",
       "      <td>-73.938959</td>\n",
       "      <td>40.828984</td>\n",
       "      <td>17</td>\n",
       "    </tr>\n",
       "    <tr>\n",
       "      <th>1</th>\n",
       "      <td>-73.965196</td>\n",
       "      <td>40.801107</td>\n",
       "      <td>-73.947489</td>\n",
       "      <td>40.815207</td>\n",
       "      <td>61</td>\n",
       "    </tr>\n",
       "    <tr>\n",
       "      <th>2</th>\n",
       "      <td>-73.982236</td>\n",
       "      <td>40.751569</td>\n",
       "      <td>-73.991099</td>\n",
       "      <td>40.750342</td>\n",
       "      <td>74</td>\n",
       "    </tr>\n",
       "  </tbody>\n",
       "</table>\n",
       "</div>"
      ],
      "text/plain": [
       "       x_org      y_org     x_dest     y_dest   t\n",
       "0 -73.981942  40.719462 -73.938959  40.828984  17\n",
       "1 -73.965196  40.801107 -73.947489  40.815207  61\n",
       "2 -73.982236  40.751569 -73.991099  40.750342  74"
      ]
     },
     "execution_count": 2,
     "metadata": {},
     "output_type": "execute_result"
    }
   ],
   "source": [
    "with open('demand_nyc_full_t.obj', 'rb') as file:\n",
    "    demand = pickle.load(file)\n",
    "demand[0][:3]"
   ]
  },
  {
   "cell_type": "code",
   "execution_count": 3,
   "id": "f0463c03",
   "metadata": {},
   "outputs": [
    {
     "data": {
      "text/plain": [
       "-0.10287356605159516"
      ]
     },
     "execution_count": 3,
     "metadata": {},
     "output_type": "execute_result"
    }
   ],
   "source": [
    "with open('kpis_nyc.obj', 'rb') as file:\n",
    "    kpis = pickle.load(file)\n",
    "kpis[0]"
   ]
  },
  {
   "cell_type": "code",
   "execution_count": 4,
   "id": "36975e3d",
   "metadata": {},
   "outputs": [
    {
     "data": {
      "text/html": [
       "<div>\n",
       "<style scoped>\n",
       "    .dataframe tbody tr th:only-of-type {\n",
       "        vertical-align: middle;\n",
       "    }\n",
       "\n",
       "    .dataframe tbody tr th {\n",
       "        vertical-align: top;\n",
       "    }\n",
       "\n",
       "    .dataframe thead th {\n",
       "        text-align: right;\n",
       "    }\n",
       "</style>\n",
       "<table border=\"1\" class=\"dataframe\">\n",
       "  <thead>\n",
       "    <tr style=\"text-align: right;\">\n",
       "      <th></th>\n",
       "      <th>x_org</th>\n",
       "      <th>y_org</th>\n",
       "      <th>x_dest</th>\n",
       "      <th>y_dest</th>\n",
       "      <th>t</th>\n",
       "    </tr>\n",
       "  </thead>\n",
       "  <tbody>\n",
       "    <tr>\n",
       "      <th>0</th>\n",
       "      <td>-14.9090</td>\n",
       "      <td>-52.9937</td>\n",
       "      <td>28.0730</td>\n",
       "      <td>56.5286</td>\n",
       "      <td>17</td>\n",
       "    </tr>\n",
       "    <tr>\n",
       "      <th>1</th>\n",
       "      <td>1.8368</td>\n",
       "      <td>28.6516</td>\n",
       "      <td>19.5435</td>\n",
       "      <td>42.7515</td>\n",
       "      <td>61</td>\n",
       "    </tr>\n",
       "    <tr>\n",
       "      <th>2</th>\n",
       "      <td>-15.2037</td>\n",
       "      <td>-20.8869</td>\n",
       "      <td>-24.0660</td>\n",
       "      <td>-22.1133</td>\n",
       "      <td>74</td>\n",
       "    </tr>\n",
       "    <tr>\n",
       "      <th>3</th>\n",
       "      <td>-15.2037</td>\n",
       "      <td>-20.8869</td>\n",
       "      <td>-18.2031</td>\n",
       "      <td>-33.6204</td>\n",
       "      <td>447</td>\n",
       "    </tr>\n",
       "    <tr>\n",
       "      <th>4</th>\n",
       "      <td>-3.0395</td>\n",
       "      <td>-12.8184</td>\n",
       "      <td>-22.1353</td>\n",
       "      <td>-29.4102</td>\n",
       "      <td>80</td>\n",
       "    </tr>\n",
       "  </tbody>\n",
       "</table>\n",
       "</div>"
      ],
      "text/plain": [
       "     x_org    y_org   x_dest   y_dest    t\n",
       "0 -14.9090 -52.9937  28.0730  56.5286   17\n",
       "1   1.8368  28.6516  19.5435  42.7515   61\n",
       "2 -15.2037 -20.8869 -24.0660 -22.1133   74\n",
       "3 -15.2037 -20.8869 -18.2031 -33.6204  447\n",
       "4  -3.0395 -12.8184 -22.1353 -29.4102   80"
      ]
     },
     "execution_count": 4,
     "metadata": {},
     "output_type": "execute_result"
    }
   ],
   "source": [
    "with open('inData.obj', 'rb') as file:\n",
    "    inData = pickle.load(file)\n",
    "with open('params.obj', 'rb') as file:\n",
    "    params = pickle.load(file)\n",
    "center = inData.nodes[inData.nodes.index==inData.stats.center]\n",
    "def centralise(df, center=center, x_name1='x_org', x_name2='x_dest', y_name1='y_org', y_name2='y_dest'):\n",
    "    df[[x_name1, y_name1, x_name2, y_name2]] -= np.array(center[['x', 'y', 'x', 'y']])[0]\n",
    "    df[[x_name1, y_name1, x_name2, y_name2]] *= 1000\n",
    "    return df\n",
    "demand = list(map(centralise, demand))\n",
    "demand[0][:5]"
   ]
  },
  {
   "cell_type": "code",
   "execution_count": 5,
   "id": "16b8e72b",
   "metadata": {},
   "outputs": [
    {
     "data": {
      "text/plain": [
       "torch.Size([47, 5])"
      ]
     },
     "execution_count": 5,
     "metadata": {},
     "output_type": "execute_result"
    }
   ],
   "source": [
    "demand = [torch.tensor(np.matrix(d)) for d in demand]\n",
    "demand[0].shape"
   ]
  },
  {
   "cell_type": "code",
   "execution_count": 6,
   "id": "da239e6d",
   "metadata": {},
   "outputs": [],
   "source": [
    "class Dataset(torch.utils.data.Dataset):\n",
    "    def __init__(self, demand, labels):\n",
    "        self.demand = demand\n",
    "        self.labels = labels\n",
    "\n",
    "    def __len__(self):\n",
    "        return len(self.labels)\n",
    "\n",
    "    def __getitem__(self, index):\n",
    "        return self.demand[index], self.labels[index]"
   ]
  },
  {
   "cell_type": "code",
   "execution_count": 7,
   "id": "b46044c6",
   "metadata": {},
   "outputs": [],
   "source": [
    "DATASET = Dataset(demand, kpis)"
   ]
  },
  {
   "cell_type": "code",
   "execution_count": 8,
   "id": "70bc6b94",
   "metadata": {},
   "outputs": [
    {
     "name": "stdout",
     "output_type": "stream",
     "text": [
      "Train size: 20770, test size: 5193\n"
     ]
    }
   ],
   "source": [
    "train_size = int(0.8 * len(DATASET))\n",
    "test_size = len(DATASET) - train_size\n",
    "train_dataset, test_dataset = torch.utils.data.random_split(DATASET, [train_size, test_size])\n",
    "print(f'Train size: {train_size}, test size: {test_size}')"
   ]
  },
  {
   "cell_type": "code",
   "execution_count": 13,
   "id": "aade1297",
   "metadata": {},
   "outputs": [],
   "source": [
    "torch.save(train_dataset, 'nyc_full_train.pt')\n",
    "torch.save(test_dataset, 'nyc_full_test.pt')"
   ]
  },
  {
   "cell_type": "markdown",
   "id": "910c6456",
   "metadata": {},
   "source": [
    "## Data inspection"
   ]
  },
  {
   "cell_type": "code",
   "execution_count": 9,
   "id": "a94d98b1",
   "metadata": {},
   "outputs": [
    {
     "data": {
      "text/plain": [
       "<matplotlib.collections.PathCollection at 0x26589c8ae80>"
      ]
     },
     "execution_count": 9,
     "metadata": {},
     "output_type": "execute_result"
    },
    {
     "data": {
      "image/png": "[encoded data removed]",
      "text/plain": [
       "<Figure size 432x288 with 1 Axes>"
      ]
     },
     "metadata": {
      "needs_background": "light"
     },
     "output_type": "display_data"
    }
   ],
   "source": [
    "import matplotlib.pyplot as plt\n",
    "\n",
    "x = [len(d) for d in demand]\n",
    "plt.scatter(x, kpis)"
   ]
  },
  {
   "cell_type": "markdown",
   "id": "a1b95726",
   "metadata": {},
   "source": [
    "## NN"
   ]
  },
  {
   "cell_type": "code",
   "execution_count": 10,
   "id": "40304234",
   "metadata": {},
   "outputs": [],
   "source": [
    "class Net(torch.nn.Module):\n",
    "    def __init__(self, n_features, nh1, nh2):\n",
    "        super(Net, self).__init__()\n",
    "        self.h1 = torch.nn.Linear(n_features, nh1)\n",
    "        self.h2 = torch.nn.Linear(nh1, nh2)\n",
    "        self.predict = torch.nn.Linear(nh2*5, 1)\n",
    "\n",
    "    def forward(self, x):\n",
    "        x = F.LeakyReLU(self.h1(x))\n",
    "        x = F.LeakyReLU(self.h2(x))\n",
    "        x = torch.flatten(x)\n",
    "        x = self.predict(x)\n",
    "        return x"
   ]
  },
  {
   "cell_type": "code",
   "execution_count": 14,
   "id": "8b00fc8b",
   "metadata": {},
   "outputs": [
    {
     "data": {
      "text/plain": [
       "device(type='cuda')"
      ]
     },
     "execution_count": 14,
     "metadata": {},
     "output_type": "execute_result"
    }
   ],
   "source": [
    "cuda = torch.cuda.is_available()\n",
    "DEVICE = torch.device(\"cuda\" if cuda else \"cpu\")\n",
    "\n",
    "batch_size = 256\n",
    "\n",
    "nh1 = 32\n",
    "nh2 = 64\n",
    "\n",
    "lr = 1e-3\n",
    "epochs = 30\n",
    "DEVICE"
   ]
  },
  {
   "cell_type": "code",
   "execution_count": null,
   "id": "f827d223",
   "metadata": {},
   "outputs": [],
   "source": [
    "train_dataset = torch.load('nyc_grid_shifted_train_dataset.pt')\n",
    "test_dataset = torch.load('nyc_grid_shifted_test_dataset.pt')"
   ]
  },
  {
   "cell_type": "code",
   "execution_count": 18,
   "id": "bcf2fb1a",
   "metadata": {},
   "outputs": [],
   "source": [
    "train_loader = DataLoader(train_dataset, batch_size=batch_size, shuffle=True, num_workers = 4)\n",
    "test_loader = DataLoader(test_dataset, batch_size=len(test_loader), shuffle=True, num_workers = 4)"
   ]
  },
  {
   "cell_type": "code",
   "execution_count": 17,
   "id": "8fb1bdef",
   "metadata": {},
   "outputs": [],
   "source": [
    "net = Net(5, nh1, nh2).to(DEVICE)\n",
    "\n",
    "criterion = nn.MSELoss().to(DEVICE)\n",
    "optimizer = torch.optim.Adam(net.parameters(), lr)"
   ]
  },
  {
   "cell_type": "code",
   "execution_count": null,
   "id": "f9ee5b41",
   "metadata": {},
   "outputs": [],
   "source": [
    "train_loss = []\n",
    "test_loss = []\n",
    "\n",
    "for epoch in range(epochs):\n",
    "    epoch_losses_train = []\n",
    "    epoch_losses_test = []\n",
    "    \n",
    "    for i, data in enumerate(train_loader):\n",
    "        inputs, kpis = data\n",
    "        \n",
    "        inputs = inputs.to(DEVICE)\n",
    "        kpis = kpis.to(DEVICE)\n",
    "\n",
    "        optimizer.zero_grad()\n",
    "        outputs = net(inputs)\n",
    "        loss = criterion(outputs, kpis)\n",
    "        loss.backward()\n",
    "        optimizer.step()\n",
    "\n",
    "        epoch_losses_train.append(loss.item())\n",
    "\n",
    "        x, y = next(iter(test_loader))\n",
    "        x = x.to(DEVICE)\n",
    "        y = y.to(DEVICE)\n",
    "\n",
    "        loss = criterion(y, net(x))\n",
    "        epoch_losses_test.append(loss.item())\n",
    "\n",
    "    train_loss.append(np.mean(epoch_losses_train))\n",
    "    test_loss.append(np.mean(epoch_losses_test))\n",
    "    if epoch % 10 == 9:\n",
    "        print(f' ####### Epoch: {epoch} #######')\n",
    "        print(f'Train loss: {train_loss[epoch]:.4f}')\n",
    "        print(f'Test loss: {test_loss[epoch]:.4f}')\n",
    "        print('\\n')\n",
    "plt.plot(train_loss, label='Train loss')\n",
    "plt.plot(test_loss, label='Test loss')\n",
    "plt.legend(title='Loss with respect to epoch')\n",
    "plt.show()"
   ]
  },
  {
   "cell_type": "code",
   "execution_count": null,
   "id": "c3b1b4b7",
   "metadata": {},
   "outputs": [],
   "source": []
  }
 ],
 "metadata": {
  "kernelspec": {
   "display_name": "Python 3 (ipykernel)",
   "language": "python",
   "name": "python3"
  },
  "language_info": {
   "codemirror_mode": {
    "name": "ipython",
    "version": 3
   },
   "file_extension": ".py",
   "mimetype": "text/x-python",
   "name": "python",
   "nbconvert_exporter": "python",
   "pygments_lexer": "ipython3",
   "version": "3.9.7"
  }
 },
 "nbformat": 4,
 "nbformat_minor": 5
}
